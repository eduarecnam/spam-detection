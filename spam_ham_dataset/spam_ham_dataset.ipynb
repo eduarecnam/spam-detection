{
 "cells": [
  {
   "cell_type": "code",
   "execution_count": 1,
   "metadata": {},
   "outputs": [],
   "source": [
    "# libraries import\n",
    "import numpy as py\n",
    "import pandas as pd\n",
    "import nltk\n",
    "from nltk.corpus import stopwords\n",
    "import string\n",
    "from sklearn.feature_extraction.text import CountVectorizer\n",
    "from sklearn.model_selection import train_test_split\n",
    "from sklearn.metrics import classification_report, confusion_matrix, accuracy_score\n",
    "from sklearn.model_selection import cross_val_score, StratifiedKFold\n",
    "from sklearn.naive_bayes import MultinomialNB\n",
    "from sklearn.neighbors import KNeighborsClassifier\n",
    "from sklearn import svm\n",
    "from sklearn.linear_model import LogisticRegression\n",
    "from sklearn import tree\n",
    "from sklearn.ensemble import RandomForestClassifier\n",
    "import math\n",
    "from sklearn.preprocessing import StandardScaler\n"
   ]
  },
  {
   "cell_type": "code",
   "execution_count": 2,
   "metadata": {},
   "outputs": [],
   "source": [
    "# Loading the dataset\n",
    "df = pd.read_csv('spam_ham_dataset.csv')"
   ]
  },
  {
   "cell_type": "code",
   "execution_count": 3,
   "metadata": {},
   "outputs": [],
   "source": [
    "# Duplicates deletion\n",
    "df.drop_duplicates(inplace = True)"
   ]
  },
  {
   "cell_type": "code",
   "execution_count": 4,
   "metadata": {},
   "outputs": [
    {
     "data": {
      "text/plain": [
       "Unnamed: 0    0\n",
       "label         0\n",
       "text          0\n",
       "label_num     0\n",
       "dtype: int64"
      ]
     },
     "execution_count": 4,
     "metadata": {},
     "output_type": "execute_result"
    }
   ],
   "source": [
    "#Checking number of null entries\n",
    "df.isnull().sum()"
   ]
  },
  {
   "cell_type": "code",
   "execution_count": 5,
   "metadata": {},
   "outputs": [
    {
     "name": "stderr",
     "output_type": "stream",
     "text": [
      "[nltk_data] Downloading package stopwords to\n",
      "[nltk_data]     C:\\Users\\eduar\\AppData\\Roaming\\nltk_data...\n",
      "[nltk_data]   Package stopwords is already up-to-date!\n"
     ]
    },
    {
     "data": {
      "text/plain": [
       "True"
      ]
     },
     "execution_count": 5,
     "metadata": {},
     "output_type": "execute_result"
    }
   ],
   "source": [
    "# Downloading stopwords\n",
    "nltk.download('stopwords')"
   ]
  },
  {
   "cell_type": "code",
   "execution_count": 6,
   "metadata": {},
   "outputs": [],
   "source": [
    "\"\"\"\n",
    "Function that will process the text and it'll proceed as follow\n",
    "1) punctuation signs deletion\n",
    "2) stopwords deletion\n",
    "3) return a clean listwords\n",
    "\"\"\"\n",
    "def process_text(text):\n",
    "    #1\n",
    "    nopunc = [char for char in text if char not in string.punctuation]\n",
    "    nopunc = ''.join(nopunc)\n",
    "    #2\n",
    "    clean_words = [word for word in nopunc.split() if word.lower() not in stopwords.words('english')]\n",
    "    #3\n",
    "    return clean_words \n"
   ]
  },
  {
   "cell_type": "code",
   "execution_count": 7,
   "metadata": {},
   "outputs": [],
   "source": [
    "# Turning the listwords into a token matrix\n",
    "messages_bow = CountVectorizer(analyzer = process_text).fit_transform(df['text'])"
   ]
  },
  {
   "cell_type": "code",
   "execution_count": 8,
   "metadata": {},
   "outputs": [],
   "source": [
    "# Spliting the dataset into two datasets (training and test) 80% for training and 80% for testing\n",
    "X_train, X_test, y_train, y_test = train_test_split(messages_bow, df['label_num'], test_size = 0.20, random_state = 1)"
   ]
  },
  {
   "cell_type": "code",
   "execution_count": 9,
   "metadata": {},
   "outputs": [],
   "source": [
    "X_train_scaled = StandardScaler(with_mean=False).fit_transform(X_train)\n",
    "X_test_scaled = StandardScaler(with_mean=False).fit_transform(X_test)"
   ]
  },
  {
   "cell_type": "code",
   "execution_count": 10,
   "metadata": {},
   "outputs": [
    {
     "name": "stdout",
     "output_type": "stream",
     "text": [
      "--------------------[Accuracy]-----------------------\n",
      "0.9908123791102514\n",
      "-----------------[Confusion matrix]------------------\n",
      "[[2937    4]\n",
      " [  34 1161]]\n",
      "---------------[Classification report]---------------\n",
      "              precision    recall  f1-score   support\n",
      "\n",
      "           0       0.99      1.00      0.99      2941\n",
      "           1       1.00      0.97      0.98      1195\n",
      "\n",
      "    accuracy                           0.99      4136\n",
      "   macro avg       0.99      0.99      0.99      4136\n",
      "weighted avg       0.99      0.99      0.99      4136\n",
      "\n",
      "-----------------------------------------------------\n"
     ]
    }
   ],
   "source": [
    "#Evaluating the model on training dataset\n",
    "classifier = MultinomialNB().fit(X_train_scaled, y_train)\n",
    "pred = classifier.predict(X_train_scaled)\n",
    "print('--------------------[Accuracy]-----------------------')\n",
    "print(accuracy_score(y_train, pred))\n",
    "print('-----------------[Confusion matrix]------------------')\n",
    "print(confusion_matrix(y_train, pred))\n",
    "print('---------------[Classification report]---------------')\n",
    "print(classification_report(y_train, pred))\n",
    "print('-----------------------------------------------------')"
   ]
  },
  {
   "cell_type": "code",
   "execution_count": 11,
   "metadata": {},
   "outputs": [
    {
     "name": "stdout",
     "output_type": "stream",
     "text": [
      "---------------[Cross-validation scores on training set]---------------\n",
      "[0.93719807 0.94679565 0.93833132 0.93107618 0.95525998]\n",
      "-------------[Cross-validation mean score on training set]-------------\n",
      "0.941732237468529\n",
      "-----------------------------------------------------------------------\n"
     ]
    }
   ],
   "source": [
    "#Results of executing cross-validation on training dataset\n",
    "shuffling = StratifiedKFold(5, shuffle=True, random_state=1)\n",
    "scores_train  = cross_val_score(classifier, X_train_scaled, y_train, cv=shuffling)\n",
    "print('---------------[Cross-validation scores on training set]---------------')\n",
    "print(scores_train)\n",
    "print('-------------[Cross-validation mean score on training set]-------------')\n",
    "print(scores_train.mean())\n",
    "print('-----------------------------------------------------------------------')"
   ]
  },
  {
   "cell_type": "code",
   "execution_count": 12,
   "metadata": {},
   "outputs": [
    {
     "name": "stdout",
     "output_type": "stream",
     "text": [
      "--------------------[Accuracy]-----------------------\n",
      "0.9623188405797102\n",
      "-----------------[Confusion matrix]------------------\n",
      "[[726   5]\n",
      " [ 34 270]]\n",
      "---------------[Classification report]---------------\n",
      "              precision    recall  f1-score   support\n",
      "\n",
      "           0       0.96      0.99      0.97       731\n",
      "           1       0.98      0.89      0.93       304\n",
      "\n",
      "    accuracy                           0.96      1035\n",
      "   macro avg       0.97      0.94      0.95      1035\n",
      "weighted avg       0.96      0.96      0.96      1035\n",
      "\n",
      "-----------------------------------------------------\n"
     ]
    }
   ],
   "source": [
    "#Evaluating the model on test set\n",
    "pred = classifier.predict(X_test_scaled)\n",
    "print('--------------------[Accuracy]-----------------------')\n",
    "print(accuracy_score(y_test, pred))\n",
    "print('-----------------[Confusion matrix]------------------')\n",
    "print(confusion_matrix(y_test, pred))\n",
    "print('---------------[Classification report]---------------')\n",
    "print(classification_report(y_test, pred))\n",
    "print('-----------------------------------------------------')"
   ]
  },
  {
   "cell_type": "code",
   "execution_count": 13,
   "metadata": {},
   "outputs": [
    {
     "name": "stdout",
     "output_type": "stream",
     "text": [
      "---------------[Cross-validation scores on test set]---------------\n",
      "[0.93236715 0.96618357 0.91304348 0.94202899 0.92753623]\n",
      "-------------[Cross-validation mean score on test set]-------------\n",
      "0.9362318840579709\n",
      "-------------------------------------------------------------------\n"
     ]
    }
   ],
   "source": [
    "#Results of executing cross-validation on testing dataset\n",
    "shuffling = StratifiedKFold(5, shuffle = True, random_state = 1)\n",
    "scores_test = cross_val_score(classifier, X_test_scaled, y_test, cv=shuffling)\n",
    "print('---------------[Cross-validation scores on test set]---------------')\n",
    "print(scores_test)\n",
    "print('-------------[Cross-validation mean score on test set]-------------')\n",
    "print(scores_test.mean())\n",
    "print('-------------------------------------------------------------------')"
   ]
  },
  {
   "cell_type": "code",
   "execution_count": 14,
   "metadata": {},
   "outputs": [
    {
     "name": "stdout",
     "output_type": "stream",
     "text": [
      "--------------------[Accuracy]-----------------------\n",
      "0.7147001934235977\n",
      "-----------------[Confusion matrix]------------------\n",
      "[[2941    0]\n",
      " [1180   15]]\n",
      "---------------[Classification report]---------------\n",
      "              precision    recall  f1-score   support\n",
      "\n",
      "           0       0.71      1.00      0.83      2941\n",
      "           1       1.00      0.01      0.02      1195\n",
      "\n",
      "    accuracy                           0.71      4136\n",
      "   macro avg       0.86      0.51      0.43      4136\n",
      "weighted avg       0.80      0.71      0.60      4136\n",
      "\n",
      "-----------------------------------------------------\n"
     ]
    }
   ],
   "source": [
    "knn_model = KNeighborsClassifier(n_neighbors=int(math.sqrt(X_train_scaled.shape[0]))).fit(X_train_scaled, y_train)\n",
    "knn_pred_train = knn_model.predict(X_train_scaled)\n",
    "# Evaluating the model on training set\n",
    "print('--------------------[Accuracy]-----------------------')\n",
    "print(accuracy_score(y_train, knn_pred_train))\n",
    "print('-----------------[Confusion matrix]------------------')\n",
    "print(confusion_matrix(y_train, knn_pred_train))\n",
    "print('---------------[Classification report]---------------')\n",
    "print(classification_report(y_train, knn_pred_train))\n",
    "print('-----------------------------------------------------')"
   ]
  },
  {
   "cell_type": "code",
   "execution_count": 15,
   "metadata": {},
   "outputs": [
    {
     "name": "stdout",
     "output_type": "stream",
     "text": [
      "---------------[Cross-validation scores on training set]---------------\n",
      "[0.71135266 0.71342201 0.71100363 0.71100363 0.71100363]\n",
      "-------------[Cross-validation mean score on training set]-------------\n",
      "0.7115571093937112\n",
      "-----------------------------------------------------------------------\n"
     ]
    }
   ],
   "source": [
    "#Results of executing cross-validation on training dataset\n",
    "shuffling = StratifiedKFold(5, shuffle=True, random_state=1)\n",
    "scores_train  = cross_val_score(knn_model, X_train_scaled, y_train, cv=shuffling)\n",
    "print('---------------[Cross-validation scores on training set]---------------')\n",
    "print(scores_train)\n",
    "print('-------------[Cross-validation mean score on training set]-------------')\n",
    "print(scores_train.mean())\n",
    "print('-----------------------------------------------------------------------')"
   ]
  },
  {
   "cell_type": "code",
   "execution_count": 16,
   "metadata": {},
   "outputs": [
    {
     "name": "stdout",
     "output_type": "stream",
     "text": [
      "--------------------[Accuracy]-----------------------\n",
      "0.7101449275362319\n",
      "-----------------[Confusion matrix]------------------\n",
      "[[731   0]\n",
      " [300   4]]\n",
      "---------------[Classification report]---------------\n",
      "              precision    recall  f1-score   support\n",
      "\n",
      "           0       0.71      1.00      0.83       731\n",
      "           1       1.00      0.01      0.03       304\n",
      "\n",
      "    accuracy                           0.71      1035\n",
      "   macro avg       0.85      0.51      0.43      1035\n",
      "weighted avg       0.79      0.71      0.59      1035\n",
      "\n",
      "-----------------------------------------------------\n"
     ]
    }
   ],
   "source": [
    "# Evaluating the model on training set\n",
    "knn_pred_test = knn_model.predict(X_test_scaled)\n",
    "print('--------------------[Accuracy]-----------------------')\n",
    "print(accuracy_score(y_test, knn_pred_test))\n",
    "print('-----------------[Confusion matrix]------------------')\n",
    "print(confusion_matrix(y_test, knn_pred_test))\n",
    "print('---------------[Classification report]---------------')\n",
    "print(classification_report(y_test, knn_pred_test))\n",
    "print('-----------------------------------------------------')"
   ]
  },
  {
   "cell_type": "code",
   "execution_count": 17,
   "metadata": {},
   "outputs": [
    {
     "name": "stdout",
     "output_type": "stream",
     "text": [
      "---------------[Cross-validation scores on test set]---------------\n",
      "[0.71014493 0.70531401 0.70531401 0.70531401 0.70531401]\n",
      "-------------[Cross-validation mean score on test set]-------------\n",
      "0.706280193236715\n",
      "-------------------------------------------------------------------\n"
     ]
    }
   ],
   "source": [
    "#Results of executing cross-validation on testing dataset\n",
    "shuffling = StratifiedKFold(5, shuffle = True, random_state = 1)\n",
    "scores_test = cross_val_score(knn_model, X_test_scaled, y_test, cv=shuffling)\n",
    "print('---------------[Cross-validation scores on test set]---------------')\n",
    "print(scores_test)\n",
    "print('-------------[Cross-validation mean score on test set]-------------')\n",
    "print(scores_test.mean())\n",
    "print('-------------------------------------------------------------------')"
   ]
  },
  {
   "cell_type": "code",
   "execution_count": 18,
   "metadata": {},
   "outputs": [
    {
     "name": "stdout",
     "output_type": "stream",
     "text": [
      "--------------------[Accuracy]-----------------------\n",
      "1.0\n",
      "-----------------[Confusion matrix]------------------\n",
      "[[2941    0]\n",
      " [   0 1195]]\n",
      "---------------[Classification report]---------------\n",
      "              precision    recall  f1-score   support\n",
      "\n",
      "           0       1.00      1.00      1.00      2941\n",
      "           1       1.00      1.00      1.00      1195\n",
      "\n",
      "    accuracy                           1.00      4136\n",
      "   macro avg       1.00      1.00      1.00      4136\n",
      "weighted avg       1.00      1.00      1.00      4136\n",
      "\n",
      "-----------------------------------------------------\n"
     ]
    }
   ],
   "source": [
    "svm_model = svm.LinearSVC(random_state = 1, max_iter=6000).fit(X_train_scaled, y_train)\n",
    "svm_pred_train = svm_model.predict(X_train_scaled)\n",
    "print('--------------------[Accuracy]-----------------------')\n",
    "print(accuracy_score(y_train, svm_pred_train))\n",
    "print('-----------------[Confusion matrix]------------------')\n",
    "print(confusion_matrix(y_train, svm_pred_train))\n",
    "print('---------------[Classification report]---------------')\n",
    "print(classification_report(y_train, svm_pred_train))\n",
    "print('-----------------------------------------------------')"
   ]
  },
  {
   "cell_type": "code",
   "execution_count": 19,
   "metadata": {},
   "outputs": [
    {
     "name": "stdout",
     "output_type": "stream",
     "text": [
      "---------------[Cross-validation scores on training set]---------------\n",
      "[0.88164251 0.90084643 0.90084643 0.89480048 0.90326481]\n",
      "-------------[Cross-validation mean score on training set]-------------\n",
      "0.8962801348217468\n",
      "-----------------------------------------------------------------------\n"
     ]
    }
   ],
   "source": [
    "#Resultados de ejecutar cross-validation sobre los datos de entrenamiento\n",
    "shuffling = StratifiedKFold(5, shuffle=True, random_state=1)\n",
    "scores_train  = cross_val_score(svm_model, X_train_scaled, y_train, cv=shuffling)\n",
    "print('---------------[Cross-validation scores on training set]---------------')\n",
    "print(scores_train)\n",
    "print('-------------[Cross-validation mean score on training set]-------------')\n",
    "print(scores_train.mean())\n",
    "print('-----------------------------------------------------------------------')"
   ]
  },
  {
   "cell_type": "code",
   "execution_count": 20,
   "metadata": {},
   "outputs": [
    {
     "name": "stdout",
     "output_type": "stream",
     "text": [
      "--------------------[Accuracy]-----------------------\n",
      "0.9004830917874396\n",
      "-----------------[Confusion matrix]------------------\n",
      "[[685  46]\n",
      " [ 57 247]]\n",
      "---------------[Classification report]---------------\n",
      "              precision    recall  f1-score   support\n",
      "\n",
      "           0       0.92      0.94      0.93       731\n",
      "           1       0.84      0.81      0.83       304\n",
      "\n",
      "    accuracy                           0.90      1035\n",
      "   macro avg       0.88      0.87      0.88      1035\n",
      "weighted avg       0.90      0.90      0.90      1035\n",
      "\n",
      "-----------------------------------------------------\n"
     ]
    }
   ],
   "source": [
    "svm_pred_test = svm_model.predict(X_test_scaled)\n",
    "print('--------------------[Accuracy]-----------------------')\n",
    "print(accuracy_score(y_test, svm_pred_test))\n",
    "print('-----------------[Confusion matrix]------------------')\n",
    "print(confusion_matrix(y_test, svm_pred_test))\n",
    "print('---------------[Classification report]---------------')\n",
    "print(classification_report(y_test, svm_pred_test))\n",
    "print('-----------------------------------------------------')"
   ]
  },
  {
   "cell_type": "code",
   "execution_count": 21,
   "metadata": {},
   "outputs": [
    {
     "name": "stdout",
     "output_type": "stream",
     "text": [
      "---------------[Cross-validation scores on test set]---------------\n",
      "[0.82125604 0.88888889 0.85507246 0.84541063 0.86956522]\n",
      "-------------[Cross-validation mean score on test set]-------------\n",
      "0.8560386473429953\n",
      "-------------------------------------------------------------------\n"
     ]
    }
   ],
   "source": [
    "#Results of executing cross-validation on testing dataset\n",
    "shuffling = StratifiedKFold(5, shuffle = True, random_state = 1)\n",
    "scores_test = cross_val_score(svm_model, X_test_scaled, y_test, cv=shuffling)\n",
    "print('---------------[Cross-validation scores on test set]---------------')\n",
    "print(scores_test)\n",
    "print('-------------[Cross-validation mean score on test set]-------------')\n",
    "print(scores_test.mean())\n",
    "print('-------------------------------------------------------------------')"
   ]
  },
  {
   "cell_type": "code",
   "execution_count": 22,
   "metadata": {},
   "outputs": [
    {
     "name": "stdout",
     "output_type": "stream",
     "text": [
      "--------------------[Accuracy]-----------------------\n",
      "1.0\n",
      "-----------------[Confusion matrix]------------------\n",
      "[[2941    0]\n",
      " [   0 1195]]\n",
      "---------------[Classification report]---------------\n",
      "              precision    recall  f1-score   support\n",
      "\n",
      "           0       1.00      1.00      1.00      2941\n",
      "           1       1.00      1.00      1.00      1195\n",
      "\n",
      "    accuracy                           1.00      4136\n",
      "   macro avg       1.00      1.00      1.00      4136\n",
      "weighted avg       1.00      1.00      1.00      4136\n",
      "\n",
      "-----------------------------------------------------\n"
     ]
    }
   ],
   "source": [
    "logistic_regression_model = LogisticRegression(random_state = 1).fit(X_train_scaled, y_train)\n",
    "logistic_regression_pred_train = logistic_regression_model.predict(X_train_scaled)\n",
    "print('--------------------[Accuracy]-----------------------')\n",
    "print(accuracy_score(y_train, logistic_regression_pred_train))\n",
    "print('-----------------[Confusion matrix]------------------')\n",
    "print(confusion_matrix(y_train, logistic_regression_pred_train))\n",
    "print('---------------[Classification report]---------------')\n",
    "print(classification_report(y_train, logistic_regression_pred_train))\n",
    "print('-----------------------------------------------------')"
   ]
  },
  {
   "cell_type": "code",
   "execution_count": 23,
   "metadata": {},
   "outputs": [
    {
     "name": "stdout",
     "output_type": "stream",
     "text": [
      "---------------[Cross-validation scores on training set]---------------\n",
      "[0.93719807 0.94679565 0.95042322 0.95042322 0.96009674]\n",
      "-------------[Cross-validation mean score on training set]-------------\n",
      "0.9489873765253609\n",
      "-----------------------------------------------------------------------\n"
     ]
    }
   ],
   "source": [
    "#Results of executing cross-validation on training dataset\n",
    "shuffling = StratifiedKFold(5, shuffle=True, random_state=1)\n",
    "scores_train  = cross_val_score(logistic_regression_model, X_train_scaled, y_train, cv=shuffling)\n",
    "print('---------------[Cross-validation scores on training set]---------------')\n",
    "print(scores_train)\n",
    "print('-------------[Cross-validation mean score on training set]-------------')\n",
    "print(scores_train.mean())\n",
    "print('-----------------------------------------------------------------------')"
   ]
  },
  {
   "cell_type": "code",
   "execution_count": 24,
   "metadata": {},
   "outputs": [
    {
     "name": "stdout",
     "output_type": "stream",
     "text": [
      "--------------------[Accuracy]-----------------------\n",
      "0.9565217391304348\n",
      "-----------------[Confusion matrix]------------------\n",
      "[[714  17]\n",
      " [ 28 276]]\n",
      "---------------[Classification report]---------------\n",
      "              precision    recall  f1-score   support\n",
      "\n",
      "           0       0.96      0.98      0.97       731\n",
      "           1       0.94      0.91      0.92       304\n",
      "\n",
      "    accuracy                           0.96      1035\n",
      "   macro avg       0.95      0.94      0.95      1035\n",
      "weighted avg       0.96      0.96      0.96      1035\n",
      "\n",
      "-----------------------------------------------------\n"
     ]
    }
   ],
   "source": [
    "logistic_regression_pred_test = logistic_regression_model.predict(X_test_scaled)\n",
    "print('--------------------[Accuracy]-----------------------')\n",
    "print(accuracy_score(y_test, logistic_regression_pred_test))\n",
    "print('-----------------[Confusion matrix]------------------')\n",
    "print(confusion_matrix(y_test, logistic_regression_pred_test))\n",
    "print('---------------[Classification report]---------------')\n",
    "print(classification_report(y_test, logistic_regression_pred_test))\n",
    "print('-----------------------------------------------------')"
   ]
  },
  {
   "cell_type": "code",
   "execution_count": 25,
   "metadata": {},
   "outputs": [
    {
     "name": "stdout",
     "output_type": "stream",
     "text": [
      "---------------[Cross-validation scores on test set]---------------\n",
      "[0.94202899 0.9468599  0.9178744  0.92753623 0.9468599 ]\n",
      "-------------[Cross-validation mean score on test set]-------------\n",
      "0.9362318840579711\n",
      "-------------------------------------------------------------------\n"
     ]
    }
   ],
   "source": [
    "shuffling = StratifiedKFold(5, shuffle = True, random_state = 1)\n",
    "scores_test = cross_val_score(logistic_regression_model, X_test_scaled, y_test, cv=shuffling)\n",
    "print('---------------[Cross-validation scores on test set]---------------')\n",
    "print(scores_test)\n",
    "print('-------------[Cross-validation mean score on test set]-------------')\n",
    "print(scores_test.mean())\n",
    "print('-------------------------------------------------------------------')"
   ]
  },
  {
   "cell_type": "code",
   "execution_count": 26,
   "metadata": {},
   "outputs": [
    {
     "name": "stdout",
     "output_type": "stream",
     "text": [
      "--------------------[Accuracy]-----------------------\n",
      "0.7884429400386848\n",
      "-----------------[Confusion matrix]------------------\n",
      "[[2881   60]\n",
      " [ 815  380]]\n",
      "---------------[Classification report]---------------\n",
      "              precision    recall  f1-score   support\n",
      "\n",
      "           0       0.78      0.98      0.87      2941\n",
      "           1       0.86      0.32      0.46      1195\n",
      "\n",
      "    accuracy                           0.79      4136\n",
      "   macro avg       0.82      0.65      0.67      4136\n",
      "weighted avg       0.80      0.79      0.75      4136\n",
      "\n",
      "-----------------------------------------------------\n"
     ]
    }
   ],
   "source": [
    "decision_tree_model = tree.DecisionTreeClassifier(random_state=1, max_depth=2).fit(X_train_scaled, y_train)\n",
    "decision_tree_pred_train = decision_tree_model.predict(X_train_scaled)\n",
    "print('--------------------[Accuracy]-----------------------')\n",
    "print(accuracy_score(y_train, decision_tree_pred_train))\n",
    "print('-----------------[Confusion matrix]------------------')\n",
    "print(confusion_matrix(y_train, decision_tree_pred_train))\n",
    "print('---------------[Classification report]---------------')\n",
    "print(classification_report(y_train, decision_tree_pred_train))\n",
    "print('-----------------------------------------------------')"
   ]
  },
  {
   "cell_type": "code",
   "execution_count": 27,
   "metadata": {},
   "outputs": [
    {
     "name": "stdout",
     "output_type": "stream",
     "text": [
      "---------------[Cross-validation scores on training set]---------------\n",
      "[0.79468599 0.78839178 0.78718259 0.79443773 0.77750907]\n",
      "-------------[Cross-validation mean score on training set]-------------\n",
      "0.7884414302320827\n",
      "-----------------------------------------------------------------------\n"
     ]
    }
   ],
   "source": [
    "shuffling = StratifiedKFold(5, shuffle=True, random_state=1)\n",
    "scores_train  = cross_val_score(decision_tree_model, X_train_scaled, y_train, cv=shuffling)\n",
    "print('---------------[Cross-validation scores on training set]---------------')\n",
    "print(scores_train)\n",
    "print('-------------[Cross-validation mean score on training set]-------------')\n",
    "print(scores_train.mean())\n",
    "print('-----------------------------------------------------------------------')"
   ]
  },
  {
   "cell_type": "code",
   "execution_count": 28,
   "metadata": {},
   "outputs": [
    {
     "name": "stdout",
     "output_type": "stream",
     "text": [
      "--------------------[Accuracy]-----------------------\n",
      "0.7855072463768116\n",
      "-----------------[Confusion matrix]------------------\n",
      "[[718  13]\n",
      " [209  95]]\n",
      "---------------[Classification report]---------------\n",
      "              precision    recall  f1-score   support\n",
      "\n",
      "           0       0.77      0.98      0.87       731\n",
      "           1       0.88      0.31      0.46       304\n",
      "\n",
      "    accuracy                           0.79      1035\n",
      "   macro avg       0.83      0.65      0.66      1035\n",
      "weighted avg       0.81      0.79      0.75      1035\n",
      "\n",
      "-----------------------------------------------------\n"
     ]
    }
   ],
   "source": [
    "decision_tree_pred_test = decision_tree_model.predict(X_test_scaled)\n",
    "print('--------------------[Accuracy]-----------------------')\n",
    "print(accuracy_score(y_test, decision_tree_pred_test))\n",
    "print('-----------------[Confusion matrix]------------------')\n",
    "print(confusion_matrix(y_test, decision_tree_pred_test))\n",
    "print('---------------[Classification report]---------------')\n",
    "print(classification_report(y_test, decision_tree_pred_test))\n",
    "print('-----------------------------------------------------')"
   ]
  },
  {
   "cell_type": "code",
   "execution_count": 29,
   "metadata": {},
   "outputs": [
    {
     "name": "stdout",
     "output_type": "stream",
     "text": [
      "---------------[Cross-validation scores on test set]---------------\n",
      "[0.8115942  0.80676329 0.77294686 0.76811594 0.71497585]\n",
      "-------------[Cross-validation mean score on test set]-------------\n",
      "0.77487922705314\n",
      "-------------------------------------------------------------------\n"
     ]
    }
   ],
   "source": [
    "shuffling = StratifiedKFold(5, shuffle = True, random_state = 1)\n",
    "scores_test = cross_val_score(decision_tree_model, X_test_scaled, y_test, cv=shuffling)\n",
    "print('---------------[Cross-validation scores on test set]---------------')\n",
    "print(scores_test)\n",
    "print('-------------[Cross-validation mean score on test set]-------------')\n",
    "print(scores_test.mean())\n",
    "print('-------------------------------------------------------------------')"
   ]
  },
  {
   "cell_type": "code",
   "execution_count": 30,
   "metadata": {},
   "outputs": [
    {
     "name": "stdout",
     "output_type": "stream",
     "text": [
      "--------------------[Accuracy]-----------------------\n",
      "0.7246131528046421\n",
      "-----------------[Confusion matrix]------------------\n",
      "[[2941    0]\n",
      " [1139   56]]\n",
      "---------------[Classification report]---------------\n",
      "              precision    recall  f1-score   support\n",
      "\n",
      "           0       0.72      1.00      0.84      2941\n",
      "           1       1.00      0.05      0.09      1195\n",
      "\n",
      "    accuracy                           0.72      4136\n",
      "   macro avg       0.86      0.52      0.46      4136\n",
      "weighted avg       0.80      0.72      0.62      4136\n",
      "\n",
      "-----------------------------------------------------\n"
     ]
    }
   ],
   "source": [
    "random_forest_model = RandomForestClassifier(max_depth=3, random_state=1).fit(X_train_scaled, y_train)\n",
    "random_forest_pred_train = random_forest_model.predict(X_train_scaled)\n",
    "print('--------------------[Accuracy]-----------------------')\n",
    "print(accuracy_score(y_train, random_forest_pred_train))\n",
    "print('-----------------[Confusion matrix]------------------')\n",
    "print(confusion_matrix(y_train, random_forest_pred_train))\n",
    "print('---------------[Classification report]---------------')\n",
    "print(classification_report(y_train, random_forest_pred_train))\n",
    "print('-----------------------------------------------------')"
   ]
  },
  {
   "cell_type": "code",
   "execution_count": 31,
   "metadata": {},
   "outputs": [
    {
     "name": "stdout",
     "output_type": "stream",
     "text": [
      "---------------[Cross-validation scores on training set]---------------\n",
      "[0.71980676 0.73276904 0.71584039 0.72551391 0.72309553]\n",
      "-------------[Cross-validation mean score on training set]-------------\n",
      "0.7234051253293143\n",
      "-----------------------------------------------------------------------\n"
     ]
    }
   ],
   "source": [
    "shuffling = StratifiedKFold(5, shuffle=True, random_state=1)\n",
    "scores_train  = cross_val_score(random_forest_model, X_train_scaled, y_train, cv=shuffling)\n",
    "print('---------------[Cross-validation scores on training set]---------------')\n",
    "print(scores_train)\n",
    "print('-------------[Cross-validation mean score on training set]-------------')\n",
    "print(scores_train.mean())\n",
    "print('-----------------------------------------------------------------------')"
   ]
  },
  {
   "cell_type": "code",
   "execution_count": 32,
   "metadata": {},
   "outputs": [
    {
     "name": "stdout",
     "output_type": "stream",
     "text": [
      "--------------------[Accuracy]-----------------------\n",
      "0.7217391304347827\n",
      "-----------------[Confusion matrix]------------------\n",
      "[[731   0]\n",
      " [288  16]]\n",
      "---------------[Classification report]---------------\n",
      "              precision    recall  f1-score   support\n",
      "\n",
      "           0       0.72      1.00      0.84       731\n",
      "           1       1.00      0.05      0.10       304\n",
      "\n",
      "    accuracy                           0.72      1035\n",
      "   macro avg       0.86      0.53      0.47      1035\n",
      "weighted avg       0.80      0.72      0.62      1035\n",
      "\n",
      "-----------------------------------------------------\n"
     ]
    }
   ],
   "source": [
    "random_forest_pred_test = random_forest_model.predict(X_test_scaled)\n",
    "print('--------------------[Accuracy]-----------------------')\n",
    "print(accuracy_score(y_test, random_forest_pred_test))\n",
    "print('-----------------[Confusion matrix]------------------')\n",
    "print(confusion_matrix(y_test, random_forest_pred_test))\n",
    "print('---------------[Classification report]---------------')\n",
    "print(classification_report(y_test, random_forest_pred_test))\n",
    "print('-----------------------------------------------------')"
   ]
  },
  {
   "cell_type": "code",
   "execution_count": 33,
   "metadata": {},
   "outputs": [
    {
     "name": "stdout",
     "output_type": "stream",
     "text": [
      "---------------[Cross-validation scores on test set]---------------\n",
      "[0.72463768 0.71980676 0.71980676 0.71497585 0.72463768]\n",
      "-------------[Cross-validation mean score on test set]-------------\n",
      "0.7207729468599033\n",
      "-------------------------------------------------------------------\n"
     ]
    }
   ],
   "source": [
    "shuffling = StratifiedKFold(5, shuffle = True, random_state = 1)\n",
    "scores_test = cross_val_score(random_forest_model, X_test_scaled, y_test, cv=shuffling)\n",
    "print('---------------[Cross-validation scores on test set]---------------')\n",
    "print(scores_test)\n",
    "print('-------------[Cross-validation mean score on test set]-------------')\n",
    "print(scores_test.mean())\n",
    "print('-------------------------------------------------------------------')"
   ]
  }
 ],
 "metadata": {
  "interpreter": {
   "hash": "63fd5069d213b44bf678585dea6b12cceca9941eaf7f819626cde1f2670de90d"
  },
  "kernelspec": {
   "display_name": "Python 3.9.6 64-bit",
   "name": "python3"
  },
  "language_info": {
   "codemirror_mode": {
    "name": "ipython",
    "version": 3
   },
   "file_extension": ".py",
   "mimetype": "text/x-python",
   "name": "python",
   "nbconvert_exporter": "python",
   "pygments_lexer": "ipython3",
   "version": "3.9.6"
  },
  "orig_nbformat": 4
 },
 "nbformat": 4,
 "nbformat_minor": 2
}
