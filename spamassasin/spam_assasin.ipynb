{
 "cells": [
  {
   "cell_type": "code",
   "execution_count": 1,
   "metadata": {},
   "outputs": [
    {
     "name": "stderr",
     "output_type": "stream",
     "text": [
      "[nltk_data] Downloading package stopwords to\n",
      "[nltk_data]     C:\\Users\\eduar\\AppData\\Roaming\\nltk_data...\n",
      "[nltk_data]   Package stopwords is already up-to-date!\n"
     ]
    }
   ],
   "source": [
    "\n",
    "# Loading libraries\n",
    "import os\n",
    "import re\n",
    "from os import listdir\n",
    "from os.path import isfile, join\n",
    "\n",
    "from nltk.stem.snowball import SnowballStemmer\n",
    "from bs4 import BeautifulSoup\n",
    "import nltk\n",
    "from nltk.corpus import stopwords\n",
    "nltk.download(\"stopwords\")\n",
    "import collections\n",
    "\n",
    "from sklearn.model_selection import train_test_split\n",
    "from sklearn.feature_extraction.text import CountVectorizer\n",
    "from sklearn.naive_bayes import MultinomialNB\n",
    "from sklearn.metrics import classification_report, confusion_matrix, accuracy_score\n",
    "from sklearn.model_selection import cross_val_score, StratifiedKFold\n",
    "import snips as snp\n",
    "from sklearn.neighbors import KNeighborsClassifier\n",
    "from sklearn import svm\n",
    "from sklearn.linear_model import LogisticRegression\n",
    "from sklearn import tree\n",
    "from sklearn.ensemble import RandomForestClassifier\n",
    "import math\n",
    "from sklearn.preprocessing import StandardScaler"
   ]
  },
  {
   "cell_type": "code",
   "execution_count": 2,
   "metadata": {},
   "outputs": [],
   "source": [
    "\"\"\"\n",
    "Loading spam/non-spam emails on the variables \n",
    "spamfiles and hamfiles, respectively\n",
    "\"\"\"\n",
    "spampath = join(os.getcwd(), \"spam\")\n",
    "spamfiles = [join(spampath, fname) for fname in listdir(spampath)]\n",
    "\n",
    "hampath = join(os.getcwd(), \"ham\")\n",
    "hamfiles = [join(hampath, fname) for fname in listdir(hampath)]"
   ]
  },
  {
   "cell_type": "code",
   "execution_count": 3,
   "metadata": {},
   "outputs": [],
   "source": [
    "\"\"\"\n",
    "    Function to extract mail body associated to fpath\n",
    "    params:\n",
    "        fpath: Path to the email whoose body it's gonna be extracted\n",
    "    output:\n",
    "        Mail body since it's first newline character on\n",
    "\"\"\"\n",
    "\n",
    "\n",
    "def get_body(fpath):    \n",
    "    with open(fpath, \"r\") as myfile:\n",
    "        try: \n",
    "            lines = myfile.readlines()\n",
    "            #First newline chacaracter is identified\n",
    "            idx = lines.index(\"\\n\")\n",
    "            #mail body, since first newline chacaracter on, is returned\n",
    "            return \"\".join(lines[idx:])\n",
    "        except: \n",
    "            print(\"Couldn't decode file %s\" %(fpath))"
   ]
  },
  {
   "cell_type": "code",
   "execution_count": 4,
   "metadata": {},
   "outputs": [],
   "source": [
    "\"\"\"\n",
    "    Function to get a word salad from mail body which is being processed\n",
    "    params:\n",
    "        body: mail body which is being processed\n",
    "    output:\n",
    "        just processed mail word salad\n",
    "\"\"\"\n",
    "def word_salad(body):\n",
    "    #parser instantiation, using internal python parser (html.parser)\n",
    "    soup = BeautifulSoup(body, 'html.parser')\n",
    "    body = soup.get_text()\n",
    "\n",
    "    # Getting total number of html elements\n",
    "    nhtml = len(soup.find_all())\n",
    "    # Getting total number of html element which label is <a>\n",
    "    nlinks = len(soup.find_all(\"a\"))\n",
    "    # Concattening to mail body, the words htmltag and linktag\n",
    "    # as many times as nhtml and nlinks, respectively. \n",
    "    body = body + nhtml*\" htmltag \" + nlinks*\" linktag \"\n",
    "    #Turning to lowercase mail content\n",
    "    body = body.lower()\n",
    "    \n",
    "    # Replacing URL's by the string httpaddr\n",
    "    regx = re.compile(r\"(http|https)://[^\\s]*\")\n",
    "    body, nhttps = regx.subn(repl=\" httpaddr \", string=body)\n",
    "\n",
    "    # Replacing email addresses by the word emailaddr\n",
    "    regx = re.compile(r\"\\b[^\\s]+@[^\\s]+[.][^\\s]+\\b\")\n",
    "    body, nemails = regx.subn(repl=\" emailaddr \", string=body)\n",
    "    \n",
    "    # Replacing number by the word number\n",
    "    regx = re.compile(r\"\\b[\\d.]+\\b\")\n",
    "    body = regx.sub(repl=\" number \", string=body)\n",
    "\n",
    "    # Replacing the characters $, ! and ? by dollar, exclamark and questmark, respectively\n",
    "    regx = re.compile(r\"[$]\")\n",
    "    body = regx.sub(repl=\" dollar \", string=body)\n",
    "    regx = re.compile(r\"[!]\")\n",
    "    body = regx.sub(repl=\" exclammark \", string=body)\n",
    "    regx = re.compile(r\"[?]\")\n",
    "    body = regx.sub(repl=\" questmark \", string=body)\n",
    "\n",
    "    #Replacing punctuation marks by blankspaces\n",
    "    regx = re.compile(r\"([^\\w\\s]+)|([_-]+)\")  \n",
    "    body = regx.sub(repl=\" \", string=body)\n",
    "    # Replacing newline characters by the string newline and blankline by the string blankline\n",
    "    regx = re.compile(r\"\\n\")\n",
    "    body = regx.sub(repl=\" newline \", string=body)\n",
    "    regx = re.compile(r\"\\n\\n\")\n",
    "    body = regx.sub(repl=\" blankline \", string=body)\n",
    "\n",
    "    # Replacing big gaps of blankspaces by just one blankspace\n",
    "    regx = re.compile(r\"\\s+\")\n",
    "    body = regx.sub(repl=\" \", string=body)\n",
    "\n",
    "    # Replacing blankspaces at the beginning and at the end \n",
    "    body = body.strip(\" \")\n",
    "\n",
    "    # Getting rid of \"useless\" words\n",
    "    bodywords = body.split(\" \")\n",
    "    keepwords = [word for word in bodywords if word not in stopwords.words('english')]\n",
    "\n",
    "    # Replacing words by their base version\n",
    "    stemmer = SnowballStemmer(\"english\")\n",
    "    stemwords = [stemmer.stem(wd) for wd in keepwords]\n",
    "    body = \" \".join(stemwords)\n",
    "\n",
    "    # Returning processing results\n",
    "    return body"
   ]
  },
  {
   "cell_type": "code",
   "execution_count": 5,
   "metadata": {},
   "outputs": [
    {
     "name": "stdout",
     "output_type": "stream",
     "text": [
      "Couldn't decode file c:\\Users\\eduar\\My Drive\\TFM\\PEC4 - Memoria final\\Datasets\\spamassasin\\ham\\cmds\n",
      "Couldn't decode file c:\\Users\\eduar\\My Drive\\TFM\\PEC4 - Memoria final\\Datasets\\spamassasin\\spam\\0000.7b1b73cf36cf9dbc3d64e3f2ee2b91f1\n",
      "Couldn't decode file c:\\Users\\eduar\\My Drive\\TFM\\PEC4 - Memoria final\\Datasets\\spamassasin\\spam\\00116.29e39a0064e2714681726ac28ff3fdef\n",
      "Couldn't decode file c:\\Users\\eduar\\My Drive\\TFM\\PEC4 - Memoria final\\Datasets\\spamassasin\\spam\\00263.13fc73e09ae15e0023bdb13d0a010f2d\n",
      "Couldn't decode file c:\\Users\\eduar\\My Drive\\TFM\\PEC4 - Memoria final\\Datasets\\spamassasin\\spam\\00320.20dcbb5b047b8e2f212ee78267ee27ad\n",
      "Couldn't decode file c:\\Users\\eduar\\My Drive\\TFM\\PEC4 - Memoria final\\Datasets\\spamassasin\\spam\\00323.9e36bf05304c99f2133a4c03c49533a9\n",
      "Couldn't decode file c:\\Users\\eduar\\My Drive\\TFM\\PEC4 - Memoria final\\Datasets\\spamassasin\\spam\\00324.6f320a8c6b5f8e4bc47d475b3d4e86ef\n",
      "Couldn't decode file c:\\Users\\eduar\\My Drive\\TFM\\PEC4 - Memoria final\\Datasets\\spamassasin\\spam\\00500.85b72f09f6778a085dc8b6821965a76f\n",
      "Couldn't decode file c:\\Users\\eduar\\My Drive\\TFM\\PEC4 - Memoria final\\Datasets\\spamassasin\\spam\\01065.9ecef01b01ca912fa35453196b4dae4c\n",
      "Couldn't decode file c:\\Users\\eduar\\My Drive\\TFM\\PEC4 - Memoria final\\Datasets\\spamassasin\\spam\\01227.04a4f94c7a73b29cb56bf38c7d526116\n",
      "Couldn't decode file c:\\Users\\eduar\\My Drive\\TFM\\PEC4 - Memoria final\\Datasets\\spamassasin\\spam\\0123.68e87f8b736959b1ab5c4b5f2ce7484a\n",
      "Couldn't decode file c:\\Users\\eduar\\My Drive\\TFM\\PEC4 - Memoria final\\Datasets\\spamassasin\\spam\\01376.73e738e4cd8121ce3dfb42d190b193c9\n",
      "Couldn't decode file c:\\Users\\eduar\\My Drive\\TFM\\PEC4 - Memoria final\\Datasets\\spamassasin\\spam\\0273.51c482172b47ce926021aa7cc2552549\n",
      "Couldn't decode file c:\\Users\\eduar\\My Drive\\TFM\\PEC4 - Memoria final\\Datasets\\spamassasin\\spam\\0330.a4df526233e524104c3b3554dd8ab5a8\n",
      "Couldn't decode file c:\\Users\\eduar\\My Drive\\TFM\\PEC4 - Memoria final\\Datasets\\spamassasin\\spam\\0334.3e4946e69031f3860ac6de3d3f27aadd\n",
      "Couldn't decode file c:\\Users\\eduar\\My Drive\\TFM\\PEC4 - Memoria final\\Datasets\\spamassasin\\spam\\0335.9822e1787fca0741a8501bdef7e8bc79\n",
      "Couldn't decode file c:\\Users\\eduar\\My Drive\\TFM\\PEC4 - Memoria final\\Datasets\\spamassasin\\spam\\cmds\n"
     ]
    }
   ],
   "source": [
    "# Saving enough memory space for storing all of the elements. This way is quicker than adding them as we go\n",
    "emails_raw =  [\"email\"]*len(hamfiles + spamfiles)  \n",
    "emails_processed =  [\"email\"]*len(hamfiles + spamfiles)\n",
    "# Target vector\n",
    "y = [0]*len(hamfiles) + [1]*len(spamfiles)  \n",
    "for idx, fpath in enumerate(hamfiles + spamfiles):\n",
    "    # Extracting just mail body\n",
    "    body = get_body(fpath)  \n",
    "    if body:\n",
    "        emails_raw[idx] = body\n",
    "        # Executing all of the pre-processing tasks\n",
    "        processed = word_salad(body)  \n",
    "        emails_processed[idx] = processed    "
   ]
  },
  {
   "cell_type": "code",
   "execution_count": 6,
   "metadata": {},
   "outputs": [],
   "source": [
    "# Plain list of all of thw words of all of the emails\n",
    "flatlist = [word for email in emails_processed for word in email.split(\" \")]  "
   ]
  },
  {
   "cell_type": "code",
   "execution_count": 7,
   "metadata": {},
   "outputs": [],
   "source": [
    "# Counting number of occurrences of every word and storing this info as a dictionary\n",
    "counts_dict = collections.Counter(flatlist)"
   ]
  },
  {
   "cell_type": "code",
   "execution_count": 8,
   "metadata": {},
   "outputs": [],
   "source": [
    "# word list which all of the words that appear more than 100 times\n",
    "Listado de palabras que aparecen más de 100 veces\n",
    "vocablist = [key for key in counts_dict if counts_dict[key] > 100]"
   ]
  },
  {
   "cell_type": "code",
   "execution_count": 9,
   "metadata": {},
   "outputs": [],
   "source": [
    "# Generating token matrix\n",
    "vectorizer = CountVectorizer(vocabulary=vocablist)  \n",
    "X = vectorizer.transform(emails_processed)"
   ]
  },
  {
   "cell_type": "code",
   "execution_count": 10,
   "metadata": {},
   "outputs": [],
   "source": [
    "#Splitting the dataset in training (80%) and test (20%)\n",
    "X_train, X_test, y_train, y_test = train_test_split(X, y, test_size = 0.20, random_state = 1)"
   ]
  },
  {
   "cell_type": "code",
   "execution_count": 11,
   "metadata": {},
   "outputs": [],
   "source": [
    "X_train_scaled = StandardScaler(with_mean=False).fit_transform(X_train)\n",
    "X_test_scaled = StandardScaler(with_mean=False).fit_transform(X_test)"
   ]
  },
  {
   "cell_type": "code",
   "execution_count": 12,
   "metadata": {},
   "outputs": [
    {
     "name": "stdout",
     "output_type": "stream",
     "text": [
      "--------------------[Accuracy]-----------------------\n",
      "0.9727272727272728\n",
      "-----------------[Confusion matrix]------------------\n",
      "[[5452  111]\n",
      " [  93 1824]]\n",
      "---------------[Classification report]---------------\n",
      "              precision    recall  f1-score   support\n",
      "\n",
      "           0       0.98      0.98      0.98      5563\n",
      "           1       0.94      0.95      0.95      1917\n",
      "\n",
      "    accuracy                           0.97      7480\n",
      "   macro avg       0.96      0.97      0.96      7480\n",
      "weighted avg       0.97      0.97      0.97      7480\n",
      "\n",
      "-----------------------------------------------------\n"
     ]
    }
   ],
   "source": [
    "#Evaluating the model on training set\n",
    "classifier = MultinomialNB().fit(X_train_scaled, y_train)\n",
    "pred = classifier.predict(X_train_scaled)\n",
    "print('--------------------[Accuracy]-----------------------')\n",
    "print(accuracy_score(y_train, pred))\n",
    "print('-----------------[Confusion matrix]------------------')\n",
    "print(confusion_matrix(y_train, pred))\n",
    "print('---------------[Classification report]---------------')\n",
    "print(classification_report(y_train, pred))\n",
    "print('-----------------------------------------------------')"
   ]
  },
  {
   "cell_type": "code",
   "execution_count": 13,
   "metadata": {},
   "outputs": [
    {
     "name": "stdout",
     "output_type": "stream",
     "text": [
      "---------------[Cross-validation scores on training set]---------------\n",
      "[0.97326203 0.96724599 0.96724599 0.97459893 0.96724599]\n",
      "-------------[Cross-validation mean score on training set]-------------\n",
      "0.9699197860962567\n",
      "-----------------------------------------------------------------------\n"
     ]
    }
   ],
   "source": [
    "#Results of executing cross-validation on training set\n",
    "shuffling = StratifiedKFold(5, shuffle=True, random_state=1)\n",
    "scores_train  = cross_val_score(classifier, X_train_scaled, y_train, cv=shuffling)\n",
    "print('---------------[Cross-validation scores on training set]---------------')\n",
    "print(scores_train)\n",
    "print('-------------[Cross-validation mean score on training set]-------------')\n",
    "print(scores_train.mean())\n",
    "print('-----------------------------------------------------------------------')"
   ]
  },
  {
   "cell_type": "code",
   "execution_count": 14,
   "metadata": {},
   "outputs": [
    {
     "name": "stdout",
     "output_type": "stream",
     "text": [
      "--------------------[Accuracy]-----------------------\n",
      "0.9620523784072689\n",
      "-----------------[Confusion matrix]------------------\n",
      "[[1349   40]\n",
      " [  31  451]]\n",
      "---------------[Classification report]---------------\n",
      "              precision    recall  f1-score   support\n",
      "\n",
      "           0       0.98      0.97      0.97      1389\n",
      "           1       0.92      0.94      0.93       482\n",
      "\n",
      "    accuracy                           0.96      1871\n",
      "   macro avg       0.95      0.95      0.95      1871\n",
      "weighted avg       0.96      0.96      0.96      1871\n",
      "\n",
      "-----------------------------------------------------\n"
     ]
    }
   ],
   "source": [
    "#Evaluating model on testing set\n",
    "pred = classifier.predict(X_test_scaled)\n",
    "print('--------------------[Accuracy]-----------------------')\n",
    "print(accuracy_score(y_test, pred))\n",
    "print('-----------------[Confusion matrix]------------------')\n",
    "print(confusion_matrix(y_test, pred))\n",
    "print('---------------[Classification report]---------------')\n",
    "print(classification_report(y_test, pred))\n",
    "print('-----------------------------------------------------')"
   ]
  },
  {
   "cell_type": "code",
   "execution_count": 15,
   "metadata": {},
   "outputs": [
    {
     "name": "stdout",
     "output_type": "stream",
     "text": [
      "---------------[Cross-validation scores on test set]---------------\n",
      "[0.98133333 0.95721925 0.95989305 0.95989305 0.96791444]\n",
      "-------------[Cross-validation mean score on test set]-------------\n",
      "0.965250623885918\n",
      "-------------------------------------------------------------------\n"
     ]
    }
   ],
   "source": [
    "# Results of executing cross-validation on testing set\n",
    "shuffling = StratifiedKFold(5, shuffle = True, random_state = 1)\n",
    "scores_test = cross_val_score(classifier, X_test_scaled, y_test, cv=shuffling)\n",
    "print('---------------[Cross-validation scores on test set]---------------')\n",
    "print(scores_test)\n",
    "print('-------------[Cross-validation mean score on test set]-------------')\n",
    "print(scores_test.mean())\n",
    "print('-------------------------------------------------------------------')"
   ]
  },
  {
   "cell_type": "code",
   "execution_count": 16,
   "metadata": {},
   "outputs": [
    {
     "name": "stdout",
     "output_type": "stream",
     "text": [
      "--------------------[Accuracy]-----------------------\n",
      "0.7450534759358288\n",
      "-----------------[Confusion matrix]------------------\n",
      "[[5552   11]\n",
      " [1896   21]]\n",
      "---------------[Classification report]---------------\n",
      "              precision    recall  f1-score   support\n",
      "\n",
      "           0       0.75      1.00      0.85      5563\n",
      "           1       0.66      0.01      0.02      1917\n",
      "\n",
      "    accuracy                           0.75      7480\n",
      "   macro avg       0.70      0.50      0.44      7480\n",
      "weighted avg       0.72      0.75      0.64      7480\n",
      "\n",
      "-----------------------------------------------------\n"
     ]
    }
   ],
   "source": [
    "knn_model = KNeighborsClassifier(n_neighbors=int(math.sqrt(X_train.shape[0]))).fit(X_train, y_train)\n",
    "knn_pred_train = knn_model.predict(X_train_scaled)\n",
    "print('--------------------[Accuracy]-----------------------')\n",
    "print(accuracy_score(y_train, knn_pred_train))\n",
    "print('-----------------[Confusion matrix]------------------')\n",
    "print(confusion_matrix(y_train, knn_pred_train))\n",
    "print('---------------[Classification report]---------------')\n",
    "print(classification_report(y_train, knn_pred_train))\n",
    "print('-----------------------------------------------------')"
   ]
  },
  {
   "cell_type": "code",
   "execution_count": 17,
   "metadata": {},
   "outputs": [
    {
     "name": "stdout",
     "output_type": "stream",
     "text": [
      "---------------[Cross-validation scores on training set]---------------\n",
      "[0.89304813 0.88836898 0.86497326 0.86229947 0.86029412]\n",
      "-------------[Cross-validation mean score on training set]-------------\n",
      "0.8737967914438503\n",
      "-----------------------------------------------------------------------\n"
     ]
    }
   ],
   "source": [
    "shuffling = StratifiedKFold(5, shuffle=True, random_state=1)\n",
    "scores_train  = cross_val_score(knn_model, X_train_scaled, y_train, cv=shuffling)\n",
    "print('---------------[Cross-validation scores on training set]---------------')\n",
    "print(scores_train)\n",
    "print('-------------[Cross-validation mean score on training set]-------------')\n",
    "print(scores_train.mean())\n",
    "print('-----------------------------------------------------------------------')"
   ]
  },
  {
   "cell_type": "code",
   "execution_count": 18,
   "metadata": {},
   "outputs": [
    {
     "name": "stdout",
     "output_type": "stream",
     "text": [
      "--------------------[Accuracy]-----------------------\n",
      "0.743452699091395\n",
      "-----------------[Confusion matrix]------------------\n",
      "[[1388    1]\n",
      " [ 479    3]]\n",
      "---------------[Classification report]---------------\n",
      "              precision    recall  f1-score   support\n",
      "\n",
      "           0       0.74      1.00      0.85      1389\n",
      "           1       0.75      0.01      0.01       482\n",
      "\n",
      "    accuracy                           0.74      1871\n",
      "   macro avg       0.75      0.50      0.43      1871\n",
      "weighted avg       0.75      0.74      0.64      1871\n",
      "\n",
      "-----------------------------------------------------\n"
     ]
    }
   ],
   "source": [
    "knn_pred_test = knn_model.predict(X_test_scaled)\n",
    "print('--------------------[Accuracy]-----------------------')\n",
    "print(accuracy_score(y_test, knn_pred_test))\n",
    "print('-----------------[Confusion matrix]------------------')\n",
    "print(confusion_matrix(y_test, knn_pred_test))\n",
    "print('---------------[Classification report]---------------')\n",
    "print(classification_report(y_test, knn_pred_test))\n",
    "print('-----------------------------------------------------')\n"
   ]
  },
  {
   "cell_type": "code",
   "execution_count": 19,
   "metadata": {},
   "outputs": [
    {
     "name": "stdout",
     "output_type": "stream",
     "text": [
      "---------------[Cross-validation scores on test set]---------------\n",
      "[0.74666667 0.76737968 0.7513369  0.75668449 0.76203209]\n",
      "-------------[Cross-validation mean score on test set]-------------\n",
      "0.7568199643493763\n",
      "-------------------------------------------------------------------\n"
     ]
    }
   ],
   "source": [
    "shuffling = StratifiedKFold(5, shuffle = True, random_state = 1)\n",
    "scores_test = cross_val_score(knn_model, X_test_scaled, y_test, cv=shuffling)\n",
    "print('---------------[Cross-validation scores on test set]---------------')\n",
    "print(scores_test)\n",
    "print('-------------[Cross-validation mean score on test set]-------------')\n",
    "print(scores_test.mean())\n",
    "print('-------------------------------------------------------------------')"
   ]
  },
  {
   "cell_type": "code",
   "execution_count": 20,
   "metadata": {},
   "outputs": [
    {
     "name": "stdout",
     "output_type": "stream",
     "text": [
      "--------------------[Accuracy]-----------------------\n",
      "0.9995989304812835\n",
      "-----------------[Confusion matrix]------------------\n",
      "[[5560    3]\n",
      " [   0 1917]]\n",
      "---------------[Classification report]---------------\n",
      "              precision    recall  f1-score   support\n",
      "\n",
      "           0       1.00      1.00      1.00      5563\n",
      "           1       1.00      1.00      1.00      1917\n",
      "\n",
      "    accuracy                           1.00      7480\n",
      "   macro avg       1.00      1.00      1.00      7480\n",
      "weighted avg       1.00      1.00      1.00      7480\n",
      "\n",
      "-----------------------------------------------------\n"
     ]
    }
   ],
   "source": [
    "svm_model = svm.LinearSVC(random_state = 1, max_iter=150000).fit(X_train_scaled, y_train)\n",
    "svm_pred_train = svm_model.predict(X_train_scaled)\n",
    "print('--------------------[Accuracy]-----------------------')\n",
    "print(accuracy_score(y_train, svm_pred_train))\n",
    "print('-----------------[Confusion matrix]------------------')\n",
    "print(confusion_matrix(y_train, svm_pred_train))\n",
    "print('---------------[Classification report]---------------')\n",
    "print(classification_report(y_train, svm_pred_train))\n",
    "print('-----------------------------------------------------')"
   ]
  },
  {
   "cell_type": "code",
   "execution_count": 21,
   "metadata": {},
   "outputs": [
    {
     "name": "stdout",
     "output_type": "stream",
     "text": [
      "---------------[Cross-validation scores on training set]---------------\n",
      "[0.97794118 0.97994652 0.97794118 0.98328877 0.97860963]\n",
      "-------------[Cross-validation mean score on training set]-------------\n",
      "0.9795454545454547\n",
      "-----------------------------------------------------------------------\n"
     ]
    }
   ],
   "source": [
    "shuffling = StratifiedKFold(5, shuffle=True, random_state=1)\n",
    "scores_train  = cross_val_score(svm_model, X_train_scaled, y_train, cv=shuffling)\n",
    "print('---------------[Cross-validation scores on training set]---------------')\n",
    "print(scores_train)\n",
    "print('-------------[Cross-validation mean score on training set]-------------')\n",
    "print(scores_train.mean())\n",
    "print('-----------------------------------------------------------------------')"
   ]
  },
  {
   "cell_type": "code",
   "execution_count": 22,
   "metadata": {},
   "outputs": [
    {
     "name": "stdout",
     "output_type": "stream",
     "text": [
      "--------------------[Accuracy]-----------------------\n",
      "0.9754142169962586\n",
      "-----------------[Confusion matrix]------------------\n",
      "[[1356   33]\n",
      " [  13  469]]\n",
      "---------------[Classification report]---------------\n",
      "              precision    recall  f1-score   support\n",
      "\n",
      "           0       0.99      0.98      0.98      1389\n",
      "           1       0.93      0.97      0.95       482\n",
      "\n",
      "    accuracy                           0.98      1871\n",
      "   macro avg       0.96      0.97      0.97      1871\n",
      "weighted avg       0.98      0.98      0.98      1871\n",
      "\n",
      "-----------------------------------------------------\n"
     ]
    }
   ],
   "source": [
    "svm_pred_test = svm_model.predict(X_test_scaled)\n",
    "print('--------------------[Accuracy]-----------------------')\n",
    "print(accuracy_score(y_test, svm_pred_test))\n",
    "print('-----------------[Confusion matrix]------------------')\n",
    "print(confusion_matrix(y_test, svm_pred_test))\n",
    "print('---------------[Classification report]---------------')\n",
    "print(classification_report(y_test, svm_pred_test))\n",
    "print('-----------------------------------------------------')"
   ]
  },
  {
   "cell_type": "code",
   "execution_count": 23,
   "metadata": {},
   "outputs": [
    {
     "name": "stdout",
     "output_type": "stream",
     "text": [
      "---------------[Cross-validation scores on test set]---------------\n",
      "[0.96       0.94919786 0.94117647 0.95721925 0.93582888]\n",
      "-------------[Cross-validation mean score on test set]-------------\n",
      "0.9486844919786096\n",
      "-------------------------------------------------------------------\n"
     ]
    }
   ],
   "source": [
    "shuffling = StratifiedKFold(5, shuffle = True, random_state = 1)\n",
    "scores_test = cross_val_score(svm_model, X_test_scaled, y_test, cv=shuffling)\n",
    "print('---------------[Cross-validation scores on test set]---------------')\n",
    "print(scores_test)\n",
    "print('-------------[Cross-validation mean score on test set]-------------')\n",
    "print(scores_test.mean())\n",
    "print('-------------------------------------------------------------------')"
   ]
  },
  {
   "cell_type": "code",
   "execution_count": 24,
   "metadata": {},
   "outputs": [
    {
     "name": "stdout",
     "output_type": "stream",
     "text": [
      "--------------------[Accuracy]-----------------------\n",
      "0.9995989304812835\n",
      "-----------------[Confusion matrix]------------------\n",
      "[[5560    3]\n",
      " [   0 1917]]\n",
      "---------------[Classification report]---------------\n",
      "              precision    recall  f1-score   support\n",
      "\n",
      "           0       1.00      1.00      1.00      5563\n",
      "           1       1.00      1.00      1.00      1917\n",
      "\n",
      "    accuracy                           1.00      7480\n",
      "   macro avg       1.00      1.00      1.00      7480\n",
      "weighted avg       1.00      1.00      1.00      7480\n",
      "\n",
      "-----------------------------------------------------\n"
     ]
    }
   ],
   "source": [
    "logistic_regression_model = LogisticRegression(random_state = 1).fit(X_train_scaled, y_train)\n",
    "logistic_regression_pred_train = logistic_regression_model.predict(X_train_scaled)\n",
    "print('--------------------[Accuracy]-----------------------')\n",
    "print(accuracy_score(y_train, logistic_regression_pred_train))\n",
    "print('-----------------[Confusion matrix]------------------')\n",
    "print(confusion_matrix(y_train, logistic_regression_pred_train))\n",
    "print('---------------[Classification report]---------------')\n",
    "print(classification_report(y_train, logistic_regression_pred_train))\n",
    "print('-----------------------------------------------------')"
   ]
  },
  {
   "cell_type": "code",
   "execution_count": 25,
   "metadata": {},
   "outputs": [
    {
     "name": "stdout",
     "output_type": "stream",
     "text": [
      "---------------[Cross-validation scores on training set]---------------\n",
      "[0.98529412 0.98395722 0.98663102 0.98997326 0.98729947]\n",
      "-------------[Cross-validation mean score on training set]-------------\n",
      "0.9866310160427808\n",
      "-----------------------------------------------------------------------\n"
     ]
    }
   ],
   "source": [
    "shuffling = StratifiedKFold(5, shuffle=True, random_state=1)\n",
    "scores_train  = cross_val_score(logistic_regression_model, X_train_scaled, y_train, cv=shuffling)\n",
    "print('---------------[Cross-validation scores on training set]---------------')\n",
    "print(scores_train)\n",
    "print('-------------[Cross-validation mean score on training set]-------------')\n",
    "print(scores_train.mean())\n",
    "print('-----------------------------------------------------------------------')"
   ]
  },
  {
   "cell_type": "code",
   "execution_count": 26,
   "metadata": {},
   "outputs": [
    {
     "name": "stdout",
     "output_type": "stream",
     "text": [
      "--------------------[Accuracy]-----------------------\n",
      "0.9893105291288081\n",
      "-----------------[Confusion matrix]------------------\n",
      "[[1376   13]\n",
      " [   7  475]]\n",
      "---------------[Classification report]---------------\n",
      "              precision    recall  f1-score   support\n",
      "\n",
      "           0       0.99      0.99      0.99      1389\n",
      "           1       0.97      0.99      0.98       482\n",
      "\n",
      "    accuracy                           0.99      1871\n",
      "   macro avg       0.98      0.99      0.99      1871\n",
      "weighted avg       0.99      0.99      0.99      1871\n",
      "\n",
      "-----------------------------------------------------\n"
     ]
    }
   ],
   "source": [
    "logistic_regression_pred_test = logistic_regression_model.predict(X_test_scaled)\n",
    "print('--------------------[Accuracy]-----------------------')\n",
    "print(accuracy_score(y_test, logistic_regression_pred_test))\n",
    "print('-----------------[Confusion matrix]------------------')\n",
    "print(confusion_matrix(y_test, logistic_regression_pred_test))\n",
    "print('---------------[Classification report]---------------')\n",
    "print(classification_report(y_test, logistic_regression_pred_test))\n",
    "print('-----------------------------------------------------')"
   ]
  },
  {
   "cell_type": "code",
   "execution_count": 27,
   "metadata": {},
   "outputs": [
    {
     "name": "stdout",
     "output_type": "stream",
     "text": [
      "---------------[Cross-validation scores on test set]---------------\n",
      "[0.976      0.97593583 0.96524064 0.96524064 0.96256684]\n",
      "-------------[Cross-validation mean score on test set]-------------\n",
      "0.9689967914438503\n",
      "-------------------------------------------------------------------\n"
     ]
    }
   ],
   "source": [
    "shuffling = StratifiedKFold(5, shuffle = True, random_state = 1)\n",
    "scores_test = cross_val_score(logistic_regression_model, X_test_scaled, y_test, cv=shuffling)\n",
    "print('---------------[Cross-validation scores on test set]---------------')\n",
    "print(scores_test)\n",
    "print('-------------[Cross-validation mean score on test set]-------------')\n",
    "print(scores_test.mean())\n",
    "print('-------------------------------------------------------------------')"
   ]
  },
  {
   "cell_type": "code",
   "execution_count": 28,
   "metadata": {},
   "outputs": [
    {
     "name": "stdout",
     "output_type": "stream",
     "text": [
      "--------------------[Accuracy]-----------------------\n",
      "0.8578877005347594\n",
      "-----------------[Confusion matrix]------------------\n",
      "[[4964  599]\n",
      " [ 464 1453]]\n",
      "---------------[Classification report]---------------\n",
      "              precision    recall  f1-score   support\n",
      "\n",
      "           0       0.91      0.89      0.90      5563\n",
      "           1       0.71      0.76      0.73      1917\n",
      "\n",
      "    accuracy                           0.86      7480\n",
      "   macro avg       0.81      0.83      0.82      7480\n",
      "weighted avg       0.86      0.86      0.86      7480\n",
      "\n",
      "-----------------------------------------------------\n"
     ]
    }
   ],
   "source": [
    "decision_tree_model = tree.DecisionTreeClassifier(random_state=1, max_depth=2).fit(X_train_scaled, y_train)\n",
    "decision_tree_pred_train = decision_tree_model.predict(X_train_scaled)\n",
    "print('--------------------[Accuracy]-----------------------')\n",
    "print(accuracy_score(y_train, decision_tree_pred_train))\n",
    "print('-----------------[Confusion matrix]------------------')\n",
    "print(confusion_matrix(y_train, decision_tree_pred_train))\n",
    "print('---------------[Classification report]---------------')\n",
    "print(classification_report(y_train, decision_tree_pred_train))\n",
    "print('-----------------------------------------------------')"
   ]
  },
  {
   "cell_type": "code",
   "execution_count": 29,
   "metadata": {},
   "outputs": [
    {
     "name": "stdout",
     "output_type": "stream",
     "text": [
      "---------------[Cross-validation scores on training set]---------------\n",
      "[0.88034759 0.84959893 0.84625668 0.8776738  0.87299465]\n",
      "-------------[Cross-validation mean score on training set]-------------\n",
      "0.8653743315508022\n",
      "-----------------------------------------------------------------------\n"
     ]
    }
   ],
   "source": [
    "shuffling = StratifiedKFold(5, shuffle=True, random_state=1)\n",
    "scores_train  = cross_val_score(decision_tree_model, X_train_scaled, y_train, cv=shuffling)\n",
    "print('---------------[Cross-validation scores on training set]---------------')\n",
    "print(scores_train)\n",
    "print('-------------[Cross-validation mean score on training set]-------------')\n",
    "print(scores_train.mean())\n",
    "print('-----------------------------------------------------------------------')"
   ]
  },
  {
   "cell_type": "code",
   "execution_count": 30,
   "metadata": {},
   "outputs": [
    {
     "name": "stdout",
     "output_type": "stream",
     "text": [
      "--------------------[Accuracy]-----------------------\n",
      "0.8637092463923036\n",
      "-----------------[Confusion matrix]------------------\n",
      "[[1258  131]\n",
      " [ 124  358]]\n",
      "---------------[Classification report]---------------\n",
      "              precision    recall  f1-score   support\n",
      "\n",
      "           0       0.91      0.91      0.91      1389\n",
      "           1       0.73      0.74      0.74       482\n",
      "\n",
      "    accuracy                           0.86      1871\n",
      "   macro avg       0.82      0.82      0.82      1871\n",
      "weighted avg       0.86      0.86      0.86      1871\n",
      "\n",
      "-----------------------------------------------------\n"
     ]
    }
   ],
   "source": [
    "decision_tree_pred_test = decision_tree_model.predict(X_test_scaled)\n",
    "print('--------------------[Accuracy]-----------------------')\n",
    "print(accuracy_score(y_test, decision_tree_pred_test))\n",
    "print('-----------------[Confusion matrix]------------------')\n",
    "print(confusion_matrix(y_test, decision_tree_pred_test))\n",
    "print('---------------[Classification report]---------------')\n",
    "print(classification_report(y_test, decision_tree_pred_test))\n",
    "print('-----------------------------------------------------')"
   ]
  },
  {
   "cell_type": "code",
   "execution_count": 31,
   "metadata": {},
   "outputs": [
    {
     "name": "stdout",
     "output_type": "stream",
     "text": [
      "---------------[Cross-validation scores on test set]---------------\n",
      "[0.86933333 0.88502674 0.89037433 0.87700535 0.89037433]\n",
      "-------------[Cross-validation mean score on test set]-------------\n",
      "0.8824228163992871\n",
      "-------------------------------------------------------------------\n"
     ]
    }
   ],
   "source": [
    "shuffling = StratifiedKFold(5, shuffle = True, random_state = 1)\n",
    "scores_test = cross_val_score(decision_tree_model, X_test_scaled, y_test, cv=shuffling)\n",
    "print('---------------[Cross-validation scores on test set]---------------')\n",
    "print(scores_test)\n",
    "print('-------------[Cross-validation mean score on test set]-------------')\n",
    "print(scores_test.mean())\n",
    "print('-------------------------------------------------------------------')"
   ]
  },
  {
   "cell_type": "code",
   "execution_count": 32,
   "metadata": {},
   "outputs": [
    {
     "name": "stdout",
     "output_type": "stream",
     "text": [
      "--------------------[Accuracy]-----------------------\n",
      "0.7897058823529411\n",
      "-----------------[Confusion matrix]------------------\n",
      "[[5563    0]\n",
      " [1573  344]]\n",
      "---------------[Classification report]---------------\n",
      "              precision    recall  f1-score   support\n",
      "\n",
      "           0       0.78      1.00      0.88      5563\n",
      "           1       1.00      0.18      0.30      1917\n",
      "\n",
      "    accuracy                           0.79      7480\n",
      "   macro avg       0.89      0.59      0.59      7480\n",
      "weighted avg       0.84      0.79      0.73      7480\n",
      "\n",
      "-----------------------------------------------------\n"
     ]
    }
   ],
   "source": [
    "random_forest_model = RandomForestClassifier(max_depth=3, random_state=1).fit(X_train_scaled, y_train)\n",
    "random_forest_pred_train = random_forest_model.predict(X_train_scaled)\n",
    "print('--------------------[Accuracy]-----------------------')\n",
    "print(accuracy_score(y_train, random_forest_pred_train))\n",
    "print('-----------------[Confusion matrix]------------------')\n",
    "print(confusion_matrix(y_train, random_forest_pred_train))\n",
    "print('---------------[Classification report]---------------')\n",
    "print(classification_report(y_train, random_forest_pred_train))\n",
    "print('-----------------------------------------------------')"
   ]
  },
  {
   "cell_type": "code",
   "execution_count": 33,
   "metadata": {},
   "outputs": [
    {
     "name": "stdout",
     "output_type": "stream",
     "text": [
      "---------------[Cross-validation scores on training set]---------------\n",
      "[0.79278075 0.79278075 0.79612299 0.77941176 0.78141711]\n",
      "-------------[Cross-validation mean score on training set]-------------\n",
      "0.7885026737967914\n",
      "-----------------------------------------------------------------------\n"
     ]
    }
   ],
   "source": [
    "shuffling = StratifiedKFold(5, shuffle=True, random_state=1)\n",
    "scores_train  = cross_val_score(random_forest_model, X_train_scaled, y_train, cv=shuffling)\n",
    "print('---------------[Cross-validation scores on training set]---------------')\n",
    "print(scores_train)\n",
    "print('-------------[Cross-validation mean score on training set]-------------')\n",
    "print(scores_train.mean())\n",
    "print('-----------------------------------------------------------------------')"
   ]
  },
  {
   "cell_type": "code",
   "execution_count": 34,
   "metadata": {},
   "outputs": [
    {
     "name": "stdout",
     "output_type": "stream",
     "text": [
      "--------------------[Accuracy]-----------------------\n",
      "0.7915553180117584\n",
      "-----------------[Confusion matrix]------------------\n",
      "[[1387    2]\n",
      " [ 388   94]]\n",
      "---------------[Classification report]---------------\n",
      "              precision    recall  f1-score   support\n",
      "\n",
      "           0       0.78      1.00      0.88      1389\n",
      "           1       0.98      0.20      0.33       482\n",
      "\n",
      "    accuracy                           0.79      1871\n",
      "   macro avg       0.88      0.60      0.60      1871\n",
      "weighted avg       0.83      0.79      0.73      1871\n",
      "\n",
      "-----------------------------------------------------\n"
     ]
    }
   ],
   "source": [
    "random_forest_pred_test = random_forest_model.predict(X_test_scaled)\n",
    "print('--------------------[Accuracy]-----------------------')\n",
    "print(accuracy_score(y_test, random_forest_pred_test))\n",
    "print('-----------------[Confusion matrix]------------------')\n",
    "print(confusion_matrix(y_test, random_forest_pred_test))\n",
    "print('---------------[Classification report]---------------')\n",
    "print(classification_report(y_test, random_forest_pred_test))\n",
    "print('-----------------------------------------------------')"
   ]
  },
  {
   "cell_type": "code",
   "execution_count": 35,
   "metadata": {},
   "outputs": [
    {
     "name": "stdout",
     "output_type": "stream",
     "text": [
      "---------------[Cross-validation scores on test set]---------------\n",
      "[0.784      0.80481283 0.79144385 0.80481283 0.79679144]\n",
      "-------------[Cross-validation mean score on test set]-------------\n",
      "0.796372192513369\n",
      "-------------------------------------------------------------------\n"
     ]
    }
   ],
   "source": [
    "shuffling = StratifiedKFold(5, shuffle = True, random_state = 1)\n",
    "scores_test = cross_val_score(random_forest_model, X_test_scaled, y_test, cv=shuffling)\n",
    "print('---------------[Cross-validation scores on test set]---------------')\n",
    "print(scores_test)\n",
    "print('-------------[Cross-validation mean score on test set]-------------')\n",
    "print(scores_test.mean())\n",
    "print('-------------------------------------------------------------------')"
   ]
  }
 ],
 "metadata": {
  "interpreter": {
   "hash": "63fd5069d213b44bf678585dea6b12cceca9941eaf7f819626cde1f2670de90d"
  },
  "kernelspec": {
   "display_name": "Python 3.9.6 64-bit",
   "name": "python3"
  },
  "language_info": {
   "codemirror_mode": {
    "name": "ipython",
    "version": 3
   },
   "file_extension": ".py",
   "mimetype": "text/x-python",
   "name": "python",
   "nbconvert_exporter": "python",
   "pygments_lexer": "ipython3",
   "version": "3.9.6"
  },
  "orig_nbformat": 4
 },
 "nbformat": 4,
 "nbformat_minor": 2
}
