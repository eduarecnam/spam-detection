{
 "cells": [
  {
   "cell_type": "code",
   "execution_count": 1,
   "metadata": {},
   "outputs": [],
   "source": [
    "# import libraries\n",
    "import numpy as py\n",
    "import pandas as pd\n",
    "from sklearn.model_selection import train_test_split\n",
    "from sklearn.metrics import classification_report, confusion_matrix, accuracy_score\n",
    "from sklearn.model_selection import cross_val_score, StratifiedKFold\n",
    "from sklearn.naive_bayes import MultinomialNB\n",
    "from sklearn.neighbors import KNeighborsClassifier\n",
    "from sklearn import svm\n",
    "from sklearn.linear_model import LogisticRegression\n",
    "from sklearn import tree\n",
    "from sklearn.ensemble import RandomForestClassifier\n",
    "import math\n",
    "from sklearn.preprocessing import StandardScaler\n",
    "import math"
   ]
  },
  {
   "cell_type": "code",
   "execution_count": 2,
   "metadata": {},
   "outputs": [],
   "source": [
    "#Loading dataset\n",
    "colnames = [\n",
    "    'word_freq_make','word_freq_address', 'word_freq_all', 'word_freq_3d', 'word_freq_our', 'word_freq_over', 'word_freq_remove', 'word_freq_internet', 'word_freq_order',\n",
    "    'word_freq_mail', 'word_freq_receive', 'word_freq_will', 'word_freq_people', 'word_freq_report', 'word_freq_addresses', 'word_freq_free', 'word_freq_business',\n",
    "    'word_freq_email', 'word_freq_you', 'word_freq_credit', 'word_freq_your', 'word_freq_font', 'word_freq_000', 'word_freq_money', 'word_freq_hp', 'word_freq_hpl',\n",
    "    'word_freq_george', 'word_freq_650', 'word_freq_lab', 'word_freq_labs', 'word_freq_telnet', 'word_freq_857', 'word_freq_data', 'word_freq_415', 'word_freq_85',   \n",
    "    'word_freq_technology', 'word_freq_1999', 'word_freq_parts', 'word_freq_pm', 'word_freq_direct', 'word_freq_cs', 'word_freq_meeting', 'word_freq_original',\n",
    "    'word_freq_project', 'word_freq_re', 'word_freq_edu', 'word_freq_table', 'word_freq_conference', 'char_freq_semicolon', 'char_freq_parentheses', 'char_freq_brackets', \n",
    "    'char_freq_exclamation', 'char_freq_dollar', 'char_freq_hash', 'capital_run_length_average', 'capital_run_length_longest', 'capital_run_length_total'\n",
    "]\n",
    "\n",
    "df = pd.read_csv('spambase.data', names=colnames)"
   ]
  },
  {
   "cell_type": "code",
   "execution_count": 3,
   "metadata": {},
   "outputs": [],
   "source": [
    "# Splitting the dataset in 80% for training and 20% for testing\n",
    "X_train, X_test, y_train, y_test = train_test_split(df.iloc[:, 0:55] , df['capital_run_length_total'], test_size = 0.20, random_state = 1)"
   ]
  },
  {
   "cell_type": "code",
   "execution_count": 4,
   "metadata": {},
   "outputs": [],
   "source": [
    "X_train_scaled = StandardScaler(with_mean=False).fit_transform(X_train)\n",
    "X_test_scaled = StandardScaler(with_mean=False).fit_transform(X_test)"
   ]
  },
  {
   "cell_type": "code",
   "execution_count": 5,
   "metadata": {},
   "outputs": [
    {
     "name": "stdout",
     "output_type": "stream",
     "text": [
      "--------------------[Accuracy]-----------------------\n",
      "0.8804347826086957\n",
      "-----------------[Confusion matrix]------------------\n",
      "[[1867  357]\n",
      " [  83 1373]]\n",
      "---------------[Classification report]---------------\n",
      "              precision    recall  f1-score   support\n",
      "\n",
      "           0       0.96      0.84      0.89      2224\n",
      "           1       0.79      0.94      0.86      1456\n",
      "\n",
      "    accuracy                           0.88      3680\n",
      "   macro avg       0.88      0.89      0.88      3680\n",
      "weighted avg       0.89      0.88      0.88      3680\n",
      "\n",
      "-----------------------------------------------------\n"
     ]
    }
   ],
   "source": [
    "# Evaluating the model on training set\n",
    "classifier = MultinomialNB().fit(X_train_scaled, y_train)\n",
    "pred = classifier.predict(X_train_scaled)\n",
    "print('--------------------[Accuracy]-----------------------')\n",
    "print(accuracy_score(y_train, pred))\n",
    "print('-----------------[Confusion matrix]------------------')\n",
    "print(confusion_matrix(y_train, pred))\n",
    "print('---------------[Classification report]---------------')\n",
    "print(classification_report(y_train, pred))\n",
    "print('-----------------------------------------------------')"
   ]
  },
  {
   "cell_type": "code",
   "execution_count": 6,
   "metadata": {},
   "outputs": [
    {
     "name": "stdout",
     "output_type": "stream",
     "text": [
      "---------------[Cross-validation scores on training set]---------------\n",
      "[0.87092391 0.87907609 0.88858696 0.88451087 0.87771739]\n",
      "-------------[Cross-validation mean score on training set]-------------\n",
      "0.8801630434782609\n",
      "-----------------------------------------------------------------------\n"
     ]
    }
   ],
   "source": [
    "# Results of executing cross-validation on training set\n",
    "shuffling = StratifiedKFold(5, shuffle=True, random_state=1)\n",
    "scores_train  = cross_val_score(classifier, X_train_scaled, y_train, cv=shuffling)\n",
    "print('---------------[Cross-validation scores on training set]---------------')\n",
    "print(scores_train)\n",
    "print('-------------[Cross-validation mean score on training set]-------------')\n",
    "print(scores_train.mean())\n",
    "print('-----------------------------------------------------------------------')"
   ]
  },
  {
   "cell_type": "code",
   "execution_count": 7,
   "metadata": {},
   "outputs": [
    {
     "name": "stdout",
     "output_type": "stream",
     "text": [
      "--------------------[Accuracy]-----------------------\n",
      "0.8686210640608035\n",
      "-----------------[Confusion matrix]------------------\n",
      "[[475  89]\n",
      " [ 32 325]]\n",
      "---------------[Classification report]---------------\n",
      "              precision    recall  f1-score   support\n",
      "\n",
      "           0       0.94      0.84      0.89       564\n",
      "           1       0.79      0.91      0.84       357\n",
      "\n",
      "    accuracy                           0.87       921\n",
      "   macro avg       0.86      0.88      0.87       921\n",
      "weighted avg       0.88      0.87      0.87       921\n",
      "\n",
      "-----------------------------------------------------\n"
     ]
    }
   ],
   "source": [
    "#Evaluating the model on testing set\n",
    "pred = classifier.predict(X_test_scaled)\n",
    "print('--------------------[Accuracy]-----------------------')\n",
    "print(accuracy_score(y_test, pred))\n",
    "print('-----------------[Confusion matrix]------------------')\n",
    "print(confusion_matrix(y_test, pred))\n",
    "print('---------------[Classification report]---------------')\n",
    "print(classification_report(y_test, pred))\n",
    "print('-----------------------------------------------------')"
   ]
  },
  {
   "cell_type": "code",
   "execution_count": 8,
   "metadata": {},
   "outputs": [
    {
     "name": "stdout",
     "output_type": "stream",
     "text": [
      "---------------[Cross-validation scores on test set]---------------\n",
      "[0.83783784 0.85869565 0.89673913 0.89673913 0.86956522]\n",
      "-------------[Cross-validation mean score on test set]-------------\n",
      "0.8719153936545242\n",
      "-------------------------------------------------------------------\n"
     ]
    }
   ],
   "source": [
    "# Results of executing cross-validation on testing set\n",
    "shuffling = StratifiedKFold(5, shuffle = True, random_state = 1)\n",
    "scores_test = cross_val_score(classifier, X_test_scaled, y_test, cv=shuffling)\n",
    "print('---------------[Cross-validation scores on test set]---------------')\n",
    "print(scores_test)\n",
    "print('-------------[Cross-validation mean score on test set]-------------')\n",
    "print(scores_test.mean())\n",
    "print('-------------------------------------------------------------------')"
   ]
  },
  {
   "cell_type": "code",
   "execution_count": 9,
   "metadata": {},
   "outputs": [
    {
     "name": "stdout",
     "output_type": "stream",
     "text": [
      "--------------------[Accuracy]-----------------------\n",
      "0.8842391304347826\n",
      "-----------------[Confusion matrix]------------------\n",
      "[[2079  145]\n",
      " [ 281 1175]]\n",
      "---------------[Classification report]---------------\n",
      "              precision    recall  f1-score   support\n",
      "\n",
      "           0       0.88      0.93      0.91      2224\n",
      "           1       0.89      0.81      0.85      1456\n",
      "\n",
      "    accuracy                           0.88      3680\n",
      "   macro avg       0.89      0.87      0.88      3680\n",
      "weighted avg       0.88      0.88      0.88      3680\n",
      "\n",
      "-----------------------------------------------------\n"
     ]
    }
   ],
   "source": [
    "knn_model = KNeighborsClassifier(n_neighbors=int(math.sqrt(X_train_scaled.shape[0]))).fit(X_train_scaled, y_train)\n",
    "knn_pred_train = knn_model.predict(X_train_scaled)\n",
    "print('--------------------[Accuracy]-----------------------')\n",
    "print(accuracy_score(y_train, knn_pred_train))\n",
    "print('-----------------[Confusion matrix]------------------')\n",
    "print(confusion_matrix(y_train, knn_pred_train))\n",
    "print('---------------[Classification report]---------------')\n",
    "print(classification_report(y_train, knn_pred_train))\n",
    "print('-----------------------------------------------------')"
   ]
  },
  {
   "cell_type": "code",
   "execution_count": 10,
   "metadata": {},
   "outputs": [
    {
     "name": "stdout",
     "output_type": "stream",
     "text": [
      "---------------[Cross-validation scores on training set]---------------\n",
      "[0.86956522 0.88586957 0.85869565 0.8763587  0.88858696]\n",
      "-------------[Cross-validation mean score on training set]-------------\n",
      "0.8758152173913043\n",
      "-----------------------------------------------------------------------\n"
     ]
    }
   ],
   "source": [
    "shuffling = StratifiedKFold(5, shuffle=True, random_state=1)\n",
    "scores_train  = cross_val_score(knn_model, X_train_scaled, y_train, cv=shuffling)\n",
    "print('---------------[Cross-validation scores on training set]---------------')\n",
    "print(scores_train)\n",
    "print('-------------[Cross-validation mean score on training set]-------------')\n",
    "print(scores_train.mean())\n",
    "print('-----------------------------------------------------------------------')"
   ]
  },
  {
   "cell_type": "code",
   "execution_count": 11,
   "metadata": {},
   "outputs": [
    {
     "name": "stdout",
     "output_type": "stream",
     "text": [
      "--------------------[Accuracy]-----------------------\n",
      "0.9011943539630836\n",
      "-----------------[Confusion matrix]------------------\n",
      "[[538  26]\n",
      " [ 65 292]]\n",
      "---------------[Classification report]---------------\n",
      "              precision    recall  f1-score   support\n",
      "\n",
      "           0       0.89      0.95      0.92       564\n",
      "           1       0.92      0.82      0.87       357\n",
      "\n",
      "    accuracy                           0.90       921\n",
      "   macro avg       0.91      0.89      0.89       921\n",
      "weighted avg       0.90      0.90      0.90       921\n",
      "\n",
      "-----------------------------------------------------\n"
     ]
    }
   ],
   "source": [
    "knn_pred_test = knn_model.predict(X_test_scaled)\n",
    "print('--------------------[Accuracy]-----------------------')\n",
    "print(accuracy_score(y_test, knn_pred_test))\n",
    "print('-----------------[Confusion matrix]------------------')\n",
    "print(confusion_matrix(y_test, knn_pred_test))\n",
    "print('---------------[Classification report]---------------')\n",
    "print(classification_report(y_test, knn_pred_test))\n",
    "print('-----------------------------------------------------')\n"
   ]
  },
  {
   "cell_type": "code",
   "execution_count": 12,
   "metadata": {},
   "outputs": [
    {
     "name": "stdout",
     "output_type": "stream",
     "text": [
      "---------------[Cross-validation scores on test set]---------------\n",
      "[0.88108108 0.78804348 0.83695652 0.7826087  0.79347826]\n",
      "-------------[Cross-validation mean score on test set]-------------\n",
      "0.8164336075205639\n",
      "-------------------------------------------------------------------\n"
     ]
    }
   ],
   "source": [
    "shuffling = StratifiedKFold(5, shuffle = True, random_state = 1)\n",
    "scores_test = cross_val_score(knn_model, X_test_scaled, y_test, cv=shuffling)\n",
    "print('---------------[Cross-validation scores on test set]---------------')\n",
    "print(scores_test)\n",
    "print('-------------[Cross-validation mean score on test set]-------------')\n",
    "print(scores_test.mean())\n",
    "print('-------------------------------------------------------------------')"
   ]
  },
  {
   "cell_type": "code",
   "execution_count": 13,
   "metadata": {},
   "outputs": [
    {
     "name": "stdout",
     "output_type": "stream",
     "text": [
      "--------------------[Accuracy]-----------------------\n",
      "0.9307065217391305\n",
      "-----------------[Confusion matrix]------------------\n",
      "[[2126   98]\n",
      " [ 157 1299]]\n",
      "---------------[Classification report]---------------\n",
      "              precision    recall  f1-score   support\n",
      "\n",
      "           0       0.93      0.96      0.94      2224\n",
      "           1       0.93      0.89      0.91      1456\n",
      "\n",
      "    accuracy                           0.93      3680\n",
      "   macro avg       0.93      0.92      0.93      3680\n",
      "weighted avg       0.93      0.93      0.93      3680\n",
      "\n",
      "-----------------------------------------------------\n"
     ]
    }
   ],
   "source": [
    "svm_model = svm.LinearSVC(random_state = 1, max_iter=26500).fit(X_train_scaled, y_train)\n",
    "svm_pred_train = svm_model.predict(X_train_scaled)\n",
    "print('--------------------[Accuracy]-----------------------')\n",
    "print(accuracy_score(y_train, svm_pred_train))\n",
    "print('-----------------[Confusion matrix]------------------')\n",
    "print(confusion_matrix(y_train, svm_pred_train))\n",
    "print('---------------[Classification report]---------------')\n",
    "print(classification_report(y_train, svm_pred_train))\n",
    "print('-----------------------------------------------------')"
   ]
  },
  {
   "cell_type": "code",
   "execution_count": 14,
   "metadata": {},
   "outputs": [
    {
     "name": "stderr",
     "output_type": "stream",
     "text": [
      "C:\\Python39\\lib\\site-packages\\sklearn\\svm\\_base.py:985: ConvergenceWarning: Liblinear failed to converge, increase the number of iterations.\n",
      "  warnings.warn(\"Liblinear failed to converge, increase \"\n"
     ]
    },
    {
     "name": "stdout",
     "output_type": "stream",
     "text": [
      "---------------[Cross-validation scores on training set]---------------\n",
      "[0.91711957 0.93070652 0.90896739 0.91983696 0.91711957]\n",
      "-------------[Cross-validation mean score on training set]-------------\n",
      "0.91875\n",
      "-----------------------------------------------------------------------\n"
     ]
    }
   ],
   "source": [
    "shuffling = StratifiedKFold(5, shuffle=True, random_state=1)\n",
    "scores_train  = cross_val_score(svm_model, X_train_scaled, y_train, cv=shuffling)\n",
    "print('---------------[Cross-validation scores on training set]---------------')\n",
    "print(scores_train)\n",
    "print('-------------[Cross-validation mean score on training set]-------------')\n",
    "print(scores_train.mean())\n",
    "print('-----------------------------------------------------------------------')"
   ]
  },
  {
   "cell_type": "code",
   "execution_count": 15,
   "metadata": {},
   "outputs": [
    {
     "name": "stdout",
     "output_type": "stream",
     "text": [
      "--------------------[Accuracy]-----------------------\n",
      "0.9218241042345277\n",
      "-----------------[Confusion matrix]------------------\n",
      "[[531  33]\n",
      " [ 39 318]]\n",
      "---------------[Classification report]---------------\n",
      "              precision    recall  f1-score   support\n",
      "\n",
      "           0       0.93      0.94      0.94       564\n",
      "           1       0.91      0.89      0.90       357\n",
      "\n",
      "    accuracy                           0.92       921\n",
      "   macro avg       0.92      0.92      0.92       921\n",
      "weighted avg       0.92      0.92      0.92       921\n",
      "\n",
      "-----------------------------------------------------\n"
     ]
    }
   ],
   "source": [
    "svm_pred_test = svm_model.predict(X_test_scaled)\n",
    "print('--------------------[Accuracy]-----------------------')\n",
    "print(accuracy_score(y_test, svm_pred_test))\n",
    "print('-----------------[Confusion matrix]------------------')\n",
    "print(confusion_matrix(y_test, svm_pred_test))\n",
    "print('---------------[Classification report]---------------')\n",
    "print(classification_report(y_test, svm_pred_test))\n",
    "print('-----------------------------------------------------')"
   ]
  },
  {
   "cell_type": "code",
   "execution_count": 16,
   "metadata": {},
   "outputs": [
    {
     "name": "stdout",
     "output_type": "stream",
     "text": [
      "---------------[Cross-validation scores on test set]---------------\n",
      "[0.91351351 0.93478261 0.91304348 0.91304348 0.90217391]\n",
      "-------------[Cross-validation mean score on test set]-------------\n",
      "0.9153113983548767\n",
      "-------------------------------------------------------------------\n"
     ]
    }
   ],
   "source": [
    "shuffling = StratifiedKFold(5, shuffle = True, random_state = 1)\n",
    "scores_test = cross_val_score(svm_model, X_test_scaled, y_test, cv=shuffling)\n",
    "print('---------------[Cross-validation scores on test set]---------------')\n",
    "print(scores_test)\n",
    "print('-------------[Cross-validation mean score on test set]-------------')\n",
    "print(scores_test.mean())\n",
    "print('-------------------------------------------------------------------')"
   ]
  },
  {
   "cell_type": "code",
   "execution_count": 17,
   "metadata": {},
   "outputs": [
    {
     "name": "stdout",
     "output_type": "stream",
     "text": [
      "--------------------[Accuracy]-----------------------\n",
      "0.9285326086956521\n",
      "-----------------[Confusion matrix]------------------\n",
      "[[2120  104]\n",
      " [ 159 1297]]\n",
      "---------------[Classification report]---------------\n",
      "              precision    recall  f1-score   support\n",
      "\n",
      "           0       0.93      0.95      0.94      2224\n",
      "           1       0.93      0.89      0.91      1456\n",
      "\n",
      "    accuracy                           0.93      3680\n",
      "   macro avg       0.93      0.92      0.92      3680\n",
      "weighted avg       0.93      0.93      0.93      3680\n",
      "\n",
      "-----------------------------------------------------\n"
     ]
    }
   ],
   "source": [
    "logistic_regression_model = LogisticRegression(random_state = 1).fit(X_train_scaled, y_train)\n",
    "logistic_regression_pred_train = logistic_regression_model.predict(X_train_scaled)\n",
    "print('--------------------[Accuracy]-----------------------')\n",
    "print(accuracy_score(y_train, logistic_regression_pred_train))\n",
    "print('-----------------[Confusion matrix]------------------')\n",
    "print(confusion_matrix(y_train, logistic_regression_pred_train))\n",
    "print('---------------[Classification report]---------------')\n",
    "print(classification_report(y_train, logistic_regression_pred_train))\n",
    "print('-----------------------------------------------------')"
   ]
  },
  {
   "cell_type": "code",
   "execution_count": 18,
   "metadata": {},
   "outputs": [
    {
     "name": "stdout",
     "output_type": "stream",
     "text": [
      "---------------[Cross-validation scores on training set]---------------\n",
      "[0.91847826 0.9388587  0.9076087  0.92798913 0.91983696]\n",
      "-------------[Cross-validation mean score on training set]-------------\n",
      "0.9225543478260869\n",
      "-----------------------------------------------------------------------\n"
     ]
    }
   ],
   "source": [
    "shuffling = StratifiedKFold(5, shuffle=True, random_state=1)\n",
    "scores_train  = cross_val_score(logistic_regression_model, X_train_scaled, y_train, cv=shuffling)\n",
    "print('---------------[Cross-validation scores on training set]---------------')\n",
    "print(scores_train)\n",
    "print('-------------[Cross-validation mean score on training set]-------------')\n",
    "print(scores_train.mean())\n",
    "print('-----------------------------------------------------------------------')"
   ]
  },
  {
   "cell_type": "code",
   "execution_count": 19,
   "metadata": {},
   "outputs": [
    {
     "name": "stdout",
     "output_type": "stream",
     "text": [
      "--------------------[Accuracy]-----------------------\n",
      "0.9229098805646037\n",
      "-----------------[Confusion matrix]------------------\n",
      "[[533  31]\n",
      " [ 40 317]]\n",
      "---------------[Classification report]---------------\n",
      "              precision    recall  f1-score   support\n",
      "\n",
      "           0       0.93      0.95      0.94       564\n",
      "           1       0.91      0.89      0.90       357\n",
      "\n",
      "    accuracy                           0.92       921\n",
      "   macro avg       0.92      0.92      0.92       921\n",
      "weighted avg       0.92      0.92      0.92       921\n",
      "\n",
      "-----------------------------------------------------\n"
     ]
    }
   ],
   "source": [
    "logistic_regression_pred_test = logistic_regression_model.predict(X_test_scaled)\n",
    "print('--------------------[Accuracy]-----------------------')\n",
    "print(accuracy_score(y_test, logistic_regression_pred_test))\n",
    "print('-----------------[Confusion matrix]------------------')\n",
    "print(confusion_matrix(y_test, logistic_regression_pred_test))\n",
    "print('---------------[Classification report]---------------')\n",
    "print(classification_report(y_test, logistic_regression_pred_test))\n",
    "print('-----------------------------------------------------')"
   ]
  },
  {
   "cell_type": "code",
   "execution_count": 20,
   "metadata": {},
   "outputs": [
    {
     "name": "stdout",
     "output_type": "stream",
     "text": [
      "---------------[Cross-validation scores on test set]---------------\n",
      "[0.92432432 0.93478261 0.91304348 0.9076087  0.90217391]\n",
      "-------------[Cross-validation mean score on test set]-------------\n",
      "0.9163866039952996\n",
      "-------------------------------------------------------------------\n"
     ]
    }
   ],
   "source": [
    "shuffling = StratifiedKFold(5, shuffle = True, random_state = 1)\n",
    "scores_test = cross_val_score(logistic_regression_model, X_test_scaled, y_test, cv=shuffling)\n",
    "print('---------------[Cross-validation scores on test set]---------------')\n",
    "print(scores_test)\n",
    "print('-------------[Cross-validation mean score on test set]-------------')\n",
    "print(scores_test.mean())\n",
    "print('-------------------------------------------------------------------')"
   ]
  },
  {
   "cell_type": "code",
   "execution_count": 21,
   "metadata": {},
   "outputs": [
    {
     "name": "stdout",
     "output_type": "stream",
     "text": [
      "--------------------[Accuracy]-----------------------\n",
      "0.8611413043478261\n",
      "-----------------[Confusion matrix]------------------\n",
      "[[2139   85]\n",
      " [ 426 1030]]\n",
      "---------------[Classification report]---------------\n",
      "              precision    recall  f1-score   support\n",
      "\n",
      "           0       0.83      0.96      0.89      2224\n",
      "           1       0.92      0.71      0.80      1456\n",
      "\n",
      "    accuracy                           0.86      3680\n",
      "   macro avg       0.88      0.83      0.85      3680\n",
      "weighted avg       0.87      0.86      0.86      3680\n",
      "\n",
      "-----------------------------------------------------\n"
     ]
    }
   ],
   "source": [
    "decision_tree_model = tree.DecisionTreeClassifier(random_state=1, max_depth=2).fit(X_train_scaled, y_train)\n",
    "decision_tree_pred_train = decision_tree_model.predict(X_train_scaled)\n",
    "print('--------------------[Accuracy]-----------------------')\n",
    "print(accuracy_score(y_train, decision_tree_pred_train))\n",
    "print('-----------------[Confusion matrix]------------------')\n",
    "print(confusion_matrix(y_train, decision_tree_pred_train))\n",
    "print('---------------[Classification report]---------------')\n",
    "print(classification_report(y_train, decision_tree_pred_train))\n",
    "print('-----------------------------------------------------')"
   ]
  },
  {
   "cell_type": "code",
   "execution_count": 22,
   "metadata": {},
   "outputs": [
    {
     "name": "stdout",
     "output_type": "stream",
     "text": [
      "---------------[Cross-validation scores on training set]---------------\n",
      "[0.85869565 0.82201087 0.86005435 0.85461957 0.8138587 ]\n",
      "-------------[Cross-validation mean score on training set]-------------\n",
      "0.8418478260869564\n",
      "-----------------------------------------------------------------------\n"
     ]
    }
   ],
   "source": [
    "shuffling = StratifiedKFold(5, shuffle=True, random_state=1)\n",
    "scores_train  = cross_val_score(decision_tree_model, X_train_scaled, y_train, cv=shuffling)\n",
    "print('---------------[Cross-validation scores on training set]---------------')\n",
    "print(scores_train)\n",
    "print('-------------[Cross-validation mean score on training set]-------------')\n",
    "print(scores_train.mean())\n",
    "print('-----------------------------------------------------------------------')"
   ]
  },
  {
   "cell_type": "code",
   "execution_count": 23,
   "metadata": {},
   "outputs": [
    {
     "name": "stdout",
     "output_type": "stream",
     "text": [
      "--------------------[Accuracy]-----------------------\n",
      "0.8773072747014115\n",
      "-----------------[Confusion matrix]------------------\n",
      "[[549  15]\n",
      " [ 98 259]]\n",
      "---------------[Classification report]---------------\n",
      "              precision    recall  f1-score   support\n",
      "\n",
      "           0       0.85      0.97      0.91       564\n",
      "           1       0.95      0.73      0.82       357\n",
      "\n",
      "    accuracy                           0.88       921\n",
      "   macro avg       0.90      0.85      0.86       921\n",
      "weighted avg       0.89      0.88      0.87       921\n",
      "\n",
      "-----------------------------------------------------\n"
     ]
    }
   ],
   "source": [
    "decision_tree_pred_test = decision_tree_model.predict(X_test_scaled)\n",
    "print('--------------------[Accuracy]-----------------------')\n",
    "print(accuracy_score(y_test, decision_tree_pred_test))\n",
    "print('-----------------[Confusion matrix]------------------')\n",
    "print(confusion_matrix(y_test, decision_tree_pred_test))\n",
    "print('---------------[Classification report]---------------')\n",
    "print(classification_report(y_test, decision_tree_pred_test))\n",
    "print('-----------------------------------------------------')"
   ]
  },
  {
   "cell_type": "code",
   "execution_count": 24,
   "metadata": {},
   "outputs": [
    {
     "name": "stdout",
     "output_type": "stream",
     "text": [
      "---------------[Cross-validation scores on test set]---------------\n",
      "[0.88108108 0.85869565 0.80434783 0.8423913  0.84782609]\n",
      "-------------[Cross-validation mean score on test set]-------------\n",
      "0.8468683901292596\n",
      "-------------------------------------------------------------------\n"
     ]
    }
   ],
   "source": [
    "shuffling = StratifiedKFold(5, shuffle = True, random_state = 1)\n",
    "scores_test = cross_val_score(decision_tree_model, X_test_scaled, y_test, cv=shuffling)\n",
    "print('---------------[Cross-validation scores on test set]---------------')\n",
    "print(scores_test)\n",
    "print('-------------[Cross-validation mean score on test set]-------------')\n",
    "print(scores_test.mean())\n",
    "print('-------------------------------------------------------------------')"
   ]
  },
  {
   "cell_type": "code",
   "execution_count": 25,
   "metadata": {},
   "outputs": [
    {
     "name": "stdout",
     "output_type": "stream",
     "text": [
      "--------------------[Accuracy]-----------------------\n",
      "0.9114130434782609\n",
      "-----------------[Confusion matrix]------------------\n",
      "[[2177   47]\n",
      " [ 279 1177]]\n",
      "---------------[Classification report]---------------\n",
      "              precision    recall  f1-score   support\n",
      "\n",
      "           0       0.89      0.98      0.93      2224\n",
      "           1       0.96      0.81      0.88      1456\n",
      "\n",
      "    accuracy                           0.91      3680\n",
      "   macro avg       0.92      0.89      0.90      3680\n",
      "weighted avg       0.92      0.91      0.91      3680\n",
      "\n",
      "-----------------------------------------------------\n"
     ]
    }
   ],
   "source": [
    "random_forest_model = RandomForestClassifier(max_depth=3, random_state=1).fit(X_train_scaled, y_train)\n",
    "random_forest_pred_train = random_forest_model.predict(X_train_scaled)\n",
    "print('--------------------[Accuracy]-----------------------')\n",
    "print(accuracy_score(y_train, random_forest_pred_train))\n",
    "print('-----------------[Confusion matrix]------------------')\n",
    "print(confusion_matrix(y_train, random_forest_pred_train))\n",
    "print('---------------[Classification report]---------------')\n",
    "print(classification_report(y_train, random_forest_pred_train))\n",
    "print('-----------------------------------------------------')"
   ]
  },
  {
   "cell_type": "code",
   "execution_count": 26,
   "metadata": {},
   "outputs": [
    {
     "name": "stdout",
     "output_type": "stream",
     "text": [
      "---------------[Cross-validation scores on training set]---------------\n",
      "[0.91032609 0.88722826 0.90081522 0.90625    0.91440217]\n",
      "-------------[Cross-validation mean score on training set]-------------\n",
      "0.9038043478260869\n",
      "-----------------------------------------------------------------------\n"
     ]
    }
   ],
   "source": [
    "shuffling = StratifiedKFold(5, shuffle=True, random_state=1)\n",
    "scores_train  = cross_val_score(random_forest_model, X_train_scaled, y_train, cv=shuffling)\n",
    "print('---------------[Cross-validation scores on training set]---------------')\n",
    "print(scores_train)\n",
    "print('-------------[Cross-validation mean score on training set]-------------')\n",
    "print(scores_train.mean())\n",
    "print('-----------------------------------------------------------------------')"
   ]
  },
  {
   "cell_type": "code",
   "execution_count": 27,
   "metadata": {},
   "outputs": [
    {
     "name": "stdout",
     "output_type": "stream",
     "text": [
      "--------------------[Accuracy]-----------------------\n",
      "0.9120521172638436\n",
      "-----------------[Confusion matrix]------------------\n",
      "[[554  10]\n",
      " [ 71 286]]\n",
      "---------------[Classification report]---------------\n",
      "              precision    recall  f1-score   support\n",
      "\n",
      "           0       0.89      0.98      0.93       564\n",
      "           1       0.97      0.80      0.88       357\n",
      "\n",
      "    accuracy                           0.91       921\n",
      "   macro avg       0.93      0.89      0.90       921\n",
      "weighted avg       0.92      0.91      0.91       921\n",
      "\n",
      "-----------------------------------------------------\n"
     ]
    }
   ],
   "source": [
    "random_forest_pred_test = random_forest_model.predict(X_test_scaled)\n",
    "print('--------------------[Accuracy]-----------------------')\n",
    "print(accuracy_score(y_test, random_forest_pred_test))\n",
    "print('-----------------[Confusion matrix]------------------')\n",
    "print(confusion_matrix(y_test, random_forest_pred_test))\n",
    "print('---------------[Classification report]---------------')\n",
    "print(classification_report(y_test, random_forest_pred_test))\n",
    "print('-----------------------------------------------------')"
   ]
  },
  {
   "cell_type": "code",
   "execution_count": 28,
   "metadata": {},
   "outputs": [
    {
     "name": "stdout",
     "output_type": "stream",
     "text": [
      "---------------[Cross-validation scores on test set]---------------\n",
      "[0.92972973 0.92391304 0.9076087  0.9076087  0.89673913]\n",
      "-------------[Cross-validation mean score on test set]-------------\n",
      "0.9131198589894242\n",
      "-------------------------------------------------------------------\n"
     ]
    }
   ],
   "source": [
    "shuffling = StratifiedKFold(5, shuffle = True, random_state = 1)\n",
    "scores_test = cross_val_score(random_forest_model, X_test_scaled, y_test, cv=shuffling)\n",
    "print('---------------[Cross-validation scores on test set]---------------')\n",
    "print(scores_test)\n",
    "print('-------------[Cross-validation mean score on test set]-------------')\n",
    "print(scores_test.mean())\n",
    "print('-------------------------------------------------------------------')"
   ]
  }
 ],
 "metadata": {
  "interpreter": {
   "hash": "63fd5069d213b44bf678585dea6b12cceca9941eaf7f819626cde1f2670de90d"
  },
  "kernelspec": {
   "display_name": "Python 3.9.6 64-bit",
   "name": "python3"
  },
  "language_info": {
   "codemirror_mode": {
    "name": "ipython",
    "version": 3
   },
   "file_extension": ".py",
   "mimetype": "text/x-python",
   "name": "python",
   "nbconvert_exporter": "python",
   "pygments_lexer": "ipython3",
   "version": "3.9.6"
  },
  "orig_nbformat": 4
 },
 "nbformat": 4,
 "nbformat_minor": 2
}
